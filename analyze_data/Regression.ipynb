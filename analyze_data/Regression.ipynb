{
  "nbformat": 4,
  "nbformat_minor": 0,
  "metadata": {
    "colab": {
      "name": "Regression.ipynb",
      "provenance": [],
      "collapsed_sections": []
    },
    "kernelspec": {
      "name": "python3",
      "display_name": "Python 3"
    }
  },
  "cells": [
    {
      "source": [
        "# Setup"
      ],
      "cell_type": "markdown",
      "metadata": {}
    },
    {
      "cell_type": "code",
      "metadata": {
        "id": "cqaTUw_ixsd-",
        "colab": {
          "base_uri": "https://localhost:8080/"
        },
        "outputId": "3632bbc6-11b5-4ae1-d6af-9204ec2753c8"
      },
      "source": [
        "from google.colab import drive\n",
        "drive.mount('/content/drive', force_remount=True)\n",
        "% cd 'drive/Shared drives/CS 229'"
      ],
      "execution_count": null,
      "outputs": [
        {
          "output_type": "stream",
          "text": [
            "Mounted at /content/drive\n",
            "/content/drive/Shared drives/CS 229\n"
          ],
          "name": "stdout"
        }
      ]
    },
    {
      "cell_type": "code",
      "metadata": {
        "id": "UDWg0i4VudlP",
        "colab": {
          "base_uri": "https://localhost:8080/"
        },
        "outputId": "552d83f7-f363-4b12-d62c-bd906bf98695"
      },
      "source": [
        "# importing libraries\n",
        "import statsmodels.api as sm\n",
        "import pandas as pd\n",
        "import numpy as np\n",
        "\n",
        "# loading the training dataset\n",
        "df = pd.read_csv('data/merged_data_2_Nov1.csv', index_col = 0)\n",
        "\n",
        "# NB: lots of missings in full set because we have very few 2020 matches; we only do 2014-2018\n",
        "df_2020 = df[df['cycle'] == 2020]\n",
        "df = df[df['cycle'] < 2020]\n",
        "\n",
        "# All PFD input vars we might consider\n",
        "X_VARS_90 = [\n",
        "          'wealth', \n",
        "          'income', \n",
        "          'asset', \n",
        "          'liability', \n",
        "          'unearned_income', \n",
        "          'income_earned',\n",
        "          'democrat',\n",
        "          'incumbent',\n",
        "          'against_incum',\n",
        "          'cycle_2014',\n",
        "          'cycle_2016',\n",
        "        ]\n",
        "X_VARS_vote = [\n",
        "          'wealth', \n",
        "          'income', \n",
        "          'asset', \n",
        "          'liability', \n",
        "          'unearned_income', \n",
        "          'income_earned',\n",
        "          'total_ninety',\n",
        "          'democrat',\n",
        "          'incumbent',\n",
        "          'against_incum',\n",
        "          'cycle_2014',\n",
        "          'cycle_2016',\n",
        "        ]\n",
        "\n",
        "def train_test_split_random_sample(df, y_var='total_ninety', X_VARS=X_VARS_90, test_proportion=0.3, seed=0):\n",
        "  df_copy = df.copy()\n",
        "  y_var = y_var\n",
        "\n",
        "  from sklearn.preprocessing import scale\n",
        "\n",
        "  test_set = df_copy.sample(frac=test_proportion, random_state=seed)\n",
        "  train_set = df_copy.drop(test_set.index)\n",
        "\n",
        "  # defining the dependent and independent variables\n",
        "  Xtrain = train_set[X_VARS]\n",
        "  ytrain = train_set[[y_var]]\n",
        "\n",
        "  # defining the dependent and independent variables\n",
        "  Xtest = test_set[X_VARS]\n",
        "  ytest = test_set[y_var]\n",
        "\n",
        "  return Xtrain, ytrain, Xtest, ytest"
      ],
      "execution_count": null,
      "outputs": [
        {
          "output_type": "stream",
          "text": [
            "/usr/local/lib/python3.6/dist-packages/IPython/core/interactiveshell.py:2718: DtypeWarning: Columns (33,72,73,75,77,82,87,94,95,97,99,101,103) have mixed types.Specify dtype option on import or set low_memory=False.\n",
            "  interactivity=interactivity, compiler=compiler, result=result)\n"
          ],
          "name": "stderr"
        }
      ]
    },
    {
      "cell_type": "markdown",
      "metadata": {
        "id": "Q1gEHE4vuhxo"
      },
      "source": [
        "### Data Cleaning"
      ]
    },
    {
      "cell_type": "code",
      "metadata": {
        "id": "SPFA5L70Psdt"
      },
      "source": [
        "original = df.copy()"
      ],
      "execution_count": null,
      "outputs": []
    },
    {
      "cell_type": "code",
      "metadata": {
        "id": "ic5DEkJ9DSOU"
      },
      "source": [
        "# Drop known unmatched people\n",
        "df = df[df['rid'] != 'missing']\n",
        "df = df[df['rid'] != 'dupe']\n",
        "df = df[df['pfd_id'] >= 10000000]"
      ],
      "execution_count": null,
      "outputs": []
    },
    {
      "cell_type": "code",
      "metadata": {
        "id": "fZFfuqmx32xO"
      },
      "source": [
        "df.dropna(subset=['total_ninety'], inplace=True)"
      ],
      "execution_count": null,
      "outputs": []
    },
    {
      "cell_type": "code",
      "metadata": {
        "id": "As5YyADO4SiX"
      },
      "source": [
        "df = df.dropna(subset=['income'])"
      ],
      "execution_count": null,
      "outputs": []
    },
    {
      "cell_type": "code",
      "metadata": {
        "id": "RBXkAvJkDPic"
      },
      "source": [
        "# Create median variables:\n",
        "df['liability'] = (df['max_liability'] + df['min_liability']) / 2\n",
        "df['asset'] = (df['max_asset'] + df['min_asset']) / 2\n",
        "df['unearned_income'] = (df['max_unearned_income'] + df['min_unearned_income']) / 2\n",
        "\n",
        "# Create some categorical variables\n",
        "df['democrat'] = (df['party'] == 100).astype(int)\n",
        "df['incumbent'] = (df['Incum.Chall'] == 'I').astype(int)\n",
        "df['cycle_2014'] = (df['cycle'] == 2014).astype(int)\n",
        "df['cycle_2016'] = (df['cycle'] == 2016).astype(int)\n",
        "\n",
        "has_incumbent = df.groupby(['district','cycle','party'])['incumbent'].sum()\n",
        "df['incum_in_primary'] = df.apply(lambda r : False if type(r.district) != str else has_incumbent[(r.district,r.cycle,r.party)] > 0, axis=1).astype(int)\n",
        "df['against_incum'] = ((df['incum_in_primary'] == 1) & (df['incumbent'] == 0)).astype(int)"
      ],
      "execution_count": null,
      "outputs": []
    },
    {
      "cell_type": "code",
      "metadata": {
        "id": "g9JS2ZVV2Yqx"
      },
      "source": [
        "Xtrain, ytrain, Xtest, ytest = train_test_split_random_sample(df, test_proportion = 0.2)"
      ],
      "execution_count": null,
      "outputs": []
    },
    {
      "cell_type": "code",
      "metadata": {
        "colab": {
          "base_uri": "https://localhost:8080/",
          "height": 419
        },
        "id": "tBimLl9qsSM8",
        "outputId": "2bee7447-d68a-4571-d40b-50b01e56b172"
      },
      "source": [
        "ytrain"
      ],
      "execution_count": null,
      "outputs": [
        {
          "output_type": "execute_result",
          "data": {
            "text/html": [
              "<div>\n",
              "<style scoped>\n",
              "    .dataframe tbody tr th:only-of-type {\n",
              "        vertical-align: middle;\n",
              "    }\n",
              "\n",
              "    .dataframe tbody tr th {\n",
              "        vertical-align: top;\n",
              "    }\n",
              "\n",
              "    .dataframe thead th {\n",
              "        text-align: right;\n",
              "    }\n",
              "</style>\n",
              "<table border=\"1\" class=\"dataframe\">\n",
              "  <thead>\n",
              "    <tr style=\"text-align: right;\">\n",
              "      <th></th>\n",
              "      <th>total_ninety</th>\n",
              "    </tr>\n",
              "  </thead>\n",
              "  <tbody>\n",
              "    <tr>\n",
              "      <th>0</th>\n",
              "      <td>2868.86</td>\n",
              "    </tr>\n",
              "    <tr>\n",
              "      <th>1</th>\n",
              "      <td>194700.00</td>\n",
              "    </tr>\n",
              "    <tr>\n",
              "      <th>2</th>\n",
              "      <td>12235.00</td>\n",
              "    </tr>\n",
              "    <tr>\n",
              "      <th>3</th>\n",
              "      <td>1598.00</td>\n",
              "    </tr>\n",
              "    <tr>\n",
              "      <th>4</th>\n",
              "      <td>6970.00</td>\n",
              "    </tr>\n",
              "    <tr>\n",
              "      <th>...</th>\n",
              "      <td>...</td>\n",
              "    </tr>\n",
              "    <tr>\n",
              "      <th>2961</th>\n",
              "      <td>116244.97</td>\n",
              "    </tr>\n",
              "    <tr>\n",
              "      <th>2963</th>\n",
              "      <td>102687.17</td>\n",
              "    </tr>\n",
              "    <tr>\n",
              "      <th>2971</th>\n",
              "      <td>2700.00</td>\n",
              "    </tr>\n",
              "    <tr>\n",
              "      <th>2993</th>\n",
              "      <td>148072.79</td>\n",
              "    </tr>\n",
              "    <tr>\n",
              "      <th>3457</th>\n",
              "      <td>524.78</td>\n",
              "    </tr>\n",
              "  </tbody>\n",
              "</table>\n",
              "<p>2253 rows × 1 columns</p>\n",
              "</div>"
            ],
            "text/plain": [
              "      total_ninety\n",
              "0          2868.86\n",
              "1        194700.00\n",
              "2         12235.00\n",
              "3          1598.00\n",
              "4          6970.00\n",
              "...            ...\n",
              "2961     116244.97\n",
              "2963     102687.17\n",
              "2971       2700.00\n",
              "2993     148072.79\n",
              "3457        524.78\n",
              "\n",
              "[2253 rows x 1 columns]"
            ]
          },
          "metadata": {
            "tags": []
          },
          "execution_count": 70
        }
      ]
    },
    {
      "cell_type": "markdown",
      "metadata": {
        "id": "QDnhqrM7uj1Q"
      },
      "source": [
        "### Data visualization (log-log scatter plots)\n",
        "\n"
      ]
    },
    {
      "cell_type": "code",
      "metadata": {
        "id": "nz8gQ4Fp7_Ct"
      },
      "source": [
        "import matplotlib.pyplot as plt\n"
      ],
      "execution_count": null,
      "outputs": []
    },
    {
      "cell_type": "code",
      "metadata": {
        "id": "c720RiLLunz8",
        "colab": {
          "base_uri": "https://localhost:8080/",
          "height": 1000
        },
        "outputId": "06de413a-d2df-454b-bb98-2fb2d72b4b32"
      },
      "source": [
        "\n",
        "fig, axes = plt.subplots(len(X_VARS_90) // 2 + len(X_VARS_90) % 2, 2, figsize=(10,len(X_VARS_90) * 2), sharey=True)\n",
        "y_var = 'total_ninety'\n",
        "y = ytrain[y_var].copy()\n",
        "y[y == 0] = 1\n",
        "y = y.apply(np.log10)\n",
        "\n",
        "for i, x_var in enumerate(X_VARS_90):\n",
        "  ax = axes[i // 2, i % 2]\n",
        "  x = Xtrain[x_var].copy()\n",
        "  if x.max() > 1:\n",
        "    x[x == 0] = 1\n",
        "    x = x.apply(np.log10)\n",
        "  ax.scatter(x, y)\n",
        "  ax.set_xlabel('log ' + x_var)\n",
        "  ax.set_ylabel('log ' + y_var)\n",
        "\n",
        "plt.show()"
      ],
      "execution_count": null,
      "outputs": [
        {
          "output_type": "display_data",
          "data": {
            "image/png": "[encoded data removed]",
            "text/plain": [
              "<Figure size 720x1584 with 12 Axes>"
            ]
          },
          "metadata": {
            "tags": [],
            "needs_background": "light"
          }
        }
      ]
    },
    {
      "cell_type": "markdown",
      "metadata": {
        "id": "iobWFbeJHRDA"
      },
      "source": [
        "## Predict 90-day funds\n",
        "Two attributes"
      ]
    },
    {
      "cell_type": "code",
      "metadata": {
        "id": "9T0SYP9F9HhQ",
        "colab": {
          "base_uri": "https://localhost:8080/",
          "height": 311
        },
        "outputId": "9d39be14-2ef1-49c6-b331-65b72328e2bf"
      },
      "source": [
        "exog, endog = sm.add_constant(Xtrain[['wealth', 'income']]), ytrain\n",
        "\n",
        "# Poisson regression\n",
        "# mod = sm.GLM(endog, exog, family=sm.families.Poisson(link=sm.families.links.log()))\n",
        "# res = mod.fit()\n",
        "# display(res.summary())\n",
        "\n",
        "# Guassian regression\n",
        "mod = sm.GLM(endog, exog, family=sm.families.Gaussian())\n",
        "res = mod.fit()\n",
        "display(res.summary())\n",
        "\n",
        "# Normal distribution + log link function\n",
        "# mod = sm.GLM(endog, exog, family=sm.families.Gaussian(sm.families.links.log()))\n",
        "# res = mod.fit()\n",
        "# display(res.summary())"
      ],
      "execution_count": null,
      "outputs": [
        {
          "output_type": "display_data",
          "data": {
            "text/html": [
              "<table class=\"simpletable\">\n",
              "<caption>Generalized Linear Model Regression Results</caption>\n",
              "<tr>\n",
              "  <th>Dep. Variable:</th>     <td>total_ninety</td>   <th>  No. Observations:  </th>   <td>  3090</td>  \n",
              "</tr>\n",
              "<tr>\n",
              "  <th>Model:</th>                  <td>GLM</td>       <th>  Df Residuals:      </th>   <td>  3087</td>  \n",
              "</tr>\n",
              "<tr>\n",
              "  <th>Model Family:</th>         <td>Poisson</td>     <th>  Df Model:          </th>   <td>     2</td>  \n",
              "</tr>\n",
              "<tr>\n",
              "  <th>Link Function:</th>          <td>log</td>       <th>  Scale:             </th>  <td>  1.0000</td> \n",
              "</tr>\n",
              "<tr>\n",
              "  <th>Method:</th>                <td>IRLS</td>       <th>  Log-Likelihood:    </th>  <td>    -inf</td> \n",
              "</tr>\n",
              "<tr>\n",
              "  <th>Date:</th>            <td>Wed, 18 Nov 2020</td> <th>  Deviance:          </th> <td>5.9857e+08</td>\n",
              "</tr>\n",
              "<tr>\n",
              "  <th>Time:</th>                <td>19:47:15</td>     <th>  Pearson chi2:      </th>  <td>1.22e+09</td> \n",
              "</tr>\n",
              "<tr>\n",
              "  <th>No. Iterations:</th>          <td>9</td>        <th>                     </th>      <td> </td>    \n",
              "</tr>\n",
              "<tr>\n",
              "  <th>Covariance Type:</th>     <td>nonrobust</td>    <th>                     </th>      <td> </td>    \n",
              "</tr>\n",
              "</table>\n",
              "<table class=\"simpletable\">\n",
              "<tr>\n",
              "     <td></td>       <th>coef</th>     <th>std err</th>      <th>z</th>      <th>P>|z|</th>  <th>[0.025</th>    <th>0.975]</th>  \n",
              "</tr>\n",
              "<tr>\n",
              "  <th>const</th>  <td>   11.6315</td> <td>  5.4e-05</td> <td> 2.15e+05</td> <td> 0.000</td> <td>   11.631</td> <td>   11.632</td>\n",
              "</tr>\n",
              "<tr>\n",
              "  <th>wealth</th> <td>  6.39e-09</td> <td> 3.08e-12</td> <td> 2072.401</td> <td> 0.000</td> <td> 6.38e-09</td> <td>  6.4e-09</td>\n",
              "</tr>\n",
              "<tr>\n",
              "  <th>income</th> <td>-1.756e-08</td> <td> 2.84e-11</td> <td> -618.452</td> <td> 0.000</td> <td>-1.76e-08</td> <td>-1.75e-08</td>\n",
              "</tr>\n",
              "</table>"
            ],
            "text/plain": [
              "<class 'statsmodels.iolib.summary.Summary'>\n",
              "\"\"\"\n",
              "                 Generalized Linear Model Regression Results                  \n",
              "==============================================================================\n",
              "Dep. Variable:           total_ninety   No. Observations:                 3090\n",
              "Model:                            GLM   Df Residuals:                     3087\n",
              "Model Family:                 Poisson   Df Model:                            2\n",
              "Link Function:                    log   Scale:                          1.0000\n",
              "Method:                          IRLS   Log-Likelihood:                   -inf\n",
              "Date:                Wed, 18 Nov 2020   Deviance:                   5.9857e+08\n",
              "Time:                        19:47:15   Pearson chi2:                 1.22e+09\n",
              "No. Iterations:                     9                                         \n",
              "Covariance Type:            nonrobust                                         \n",
              "==============================================================================\n",
              "                 coef    std err          z      P>|z|      [0.025      0.975]\n",
              "------------------------------------------------------------------------------\n",
              "const         11.6315    5.4e-05   2.15e+05      0.000      11.631      11.632\n",
              "wealth       6.39e-09   3.08e-12   2072.401      0.000    6.38e-09     6.4e-09\n",
              "income     -1.756e-08   2.84e-11   -618.452      0.000   -1.76e-08   -1.75e-08\n",
              "==============================================================================\n",
              "\"\"\""
            ]
          },
          "metadata": {
            "tags": []
          }
        }
      ]
    },
    {
      "cell_type": "code",
      "metadata": {
        "id": "bxV-KNec-zb7",
        "colab": {
          "base_uri": "https://localhost:8080/"
        },
        "outputId": "63d14111-1b23-4073-81b1-366f564bc1eb"
      },
      "source": [
        "# performing predictions on the test datdaset\n",
        "yhat = res.predict(sm.add_constant(Xtest[['wealth', 'income']]))\n",
        "\n",
        "# comparing original and predicted values of y\n",
        "print('Acutal values :', list(ytest.values))\n",
        "print('Predictions :', list(yhat.values))"
      ],
      "execution_count": null,
      "outputs": [
        {
          "output_type": "stream",
          "text": [
            "Acutal values : [11980.23, 188604.49, 484.25, 332130.13, 11500.0, 27735.0, 15619.62, 388806.52, 2567.9, 3250.0, 347349.0, 175933.32, 25940.0, 9075.0, 2350.0, 184296.22, 10740.0, 359198.35, 4999.51, 239586.25, 250.0, 55.0, 27735.0, 67616.95, 3950.0, 21250.0, 117418.1, 74033.77, 242585.0, 100525.0, 250.0, 19970.0, 41444.5, 21270.28, 105045.24, 490432.65, 192959.0, 72970.84, 582532.86, 185060.0, 48872.18, 106750.11, 270941.2, 88765.0, 2872.94, 136019.32, 140778.0, 102569.0, 11500.0, 559.6, 18016.95, 4500.0, 200820.0, 107850.0, 263028.1, 16542.66, 34540.52, 6101.110000000002, 119527.0, 25883.32, 267325.0, 117418.1, 62653.02, 175933.32, 90947.5, 42975.0, 6000.0, 41150.0, 138420.0, -9.0, 250.0, 308780.0, 166762.75000000006, 37650.0, 64320.0, 5662.17, 235624.58, 31047.75, 764948.14, 32994.0, 155983.85, 115723.0, 6875.0, 11250.0, 7700.0, 241031.41, 213270.0, 42321.0, 152463.44, 20350.0, 102569.0, 24618.81, 13321.76, 131712.0, 127207.78, 138554.69, 12900.0, 50.0, 5100.0, 5499.0, 78371.0, 512242.75, 19892.97, 96450.0, 244321.7, 63900.0, 211675.3, 140772.68, 101550.0, 30160.0, 507327.21, 96266.0, 62016.52, 1350.0, 21757.36, 211246.41, 25849.7, 521363.78, 50065.0, 101717.2, 19275.0, 14259.42, 2700.0, 50500.0, 10000.0, 19016.47, 67940.0, 18350.0, 4966.63, 119674.86, 41125.0, 118335.0, 4750.0, 63815.0, 4751.0, 149300.0, 106330.32, 300840.82, 30644.77, 188500.0, 173648.83000000002, 819204.86, 18995.0, 93515.75, 26814.8, 19224.32, 28416.45, 4966.63, 12764.9, 154160.24, 17600.0, 77261.55, 5501.0, 235125.27, 7950.0, 359601.08, 50698.0, 19624.98, 69361.5, 114135.5, 4000.0, 44134.0, 37557.71, 23098.0, 68.25, 26700.0, 380307.45, 3510.0, 62653.02, 102687.17, 63824.66, 43550.0, 50.0, 42335.0, 122531.94, 71750.0, 1650.0, 87259.9, 5050.0, 1385.0, 18995.0, 691686.06, 4700.0, 20100.0, 4545.67, 41309.94, 535436.14, 44025.0, 29604.0, 5350.0, 10000.0, 38187.89, 37650.36, 34166.9, 160849.0, 17800.0, 524.7800000000002, 117175.0, 45000.0, 81114.15, 319150.0, 52931.5, 500.0, 1312450.0, 375539.94, 140255.0, 271127.52, 57835.0, 312693.82, 237400.0, 80069.73, 4950.0, 468.0, 85583.65, 85984.54000000001, 6847.7, 122512.57, 215948.08, 6455.0, 2258.4300000000007, 28071.61, 179500.0, 119833.84, 136280.0, 236566.16, 34611.0, 33559.47, 134300.24, 62016.52, 12561.0, 118880.0, 599835.0, 178664.63999999996, 810.0, 73190.62, 127362.8, 10111.86, 354.0, 197978.33, 7626.69, 455093.4, 2016.7, 43550.0, 11973.0, 37315.75, 111210.11, 29310.0, 31975.0, 496.0, 40850.0, 155184.44, 40000.0, 31213.23, 117750.0, 96750.0, 188271.97, 267.04, 230441.22, 7500.0, 99604.37, 3770.0, 10216.75, 153388.81, 169220.2, 75311.0, 80125.0, 44200.0, 123465.59, 279054.2, 56481.47, 12016.0, 26968.0, 110300.0, 9700.0, 280308.08, 126199.4, 78900.0, 140.0, 76146.0, 24620.0, 229946.26, 234599.95, 8835.9, 195435.46, 12.0, 33134.66, 3047.12, 112461.98, 39650.0, 500.0, 85300.0, 78900.0, 155983.85, 135201.4, 16015.6, 72840.3, 179500.0, 564.95, 29604.0, 136991.0, 5566.42, 33000.0, 140772.68, 76833.54000000001, 301879.0, 166567.01, 125215.0, 8557.99, 2000.0, 1350.0, 167900.0, 259444.15, 40600.0, 453872.14, 90200.0, 56250.0, 4000.0, 3862.21, 182259.5, 72550.0, 2700.0, 147235.0, 68950.31, 937.1, 5750.0, 45200.42, 108098.23, 15666.15, 143424.73, 14933.09, 2250.0, 351971.09, 1000.63, 123280.0, 16750.0, 217340.09, 3850.0, 145363.51, 6880.0, 65516.7, 154160.24, 543402.0, 463654.5, 36816.0, 255511.7, 53950.0, 20900.0, 59997.0, 2889.51, 250.0, 97285.0, 14706.25, 15166.27, 75804.75, 215673.64, 77311.87, 116550.76, 15166.27, 9331.7, 488734.0, 341763.45, 3500.0, 178664.63999999996, 71285.35, 120450.0, 297175.57, 200.0, 8700.0, 890.0, 18000.0, 2120.0, 5990.0, 230716.94, 68775.1, 62000.0, 53950.0, 13066.98, 144250.0, 105008.31, 406729.0, -21.0, 31975.0, 2500.0, 252192.45, 169084.97999999998, 163809.9, 1794.36, 150250.0, 4850.0, 292700.0, 149776.73, 202950.0, 267325.0, 118350.0, 50698.0, 101785.0, 19650.0, 4230.0, 97905.82, 365517.09, 339250.0, 3389.8899999999994, 363727.5, 26814.8, 37997.62, 57835.0, 34264.46, 2500.0, 11633.36, 74050.0, 64125.0, 17042.43, 13321.76, 50899.25, 3125.0, 119674.86, 4500.0, 240734.34, 8000.0, 202625.0, 257381.39, 10754.82, 119426.94, 560.0, 20773.78, 63279.18, 1595.36, 127113.99, 19050.0, 99950.67, 15236.0, 103965.0, 178966.96, 43500.0, 45452.54, 22102.81, 106393.65, 213300.0, 2908.28, 1230.84, 41450.0, 144924.22999999998, 142649.99, 2279.0, 340630.91000000003, 32828.3, 280500.0, 13552.0, 35906.65, 31975.0, 192479.53, 147555.97, 119833.84, 69675.57, 817602.1900000002, 12400.0, 173600.0, 271120.92, 44887.27, 160896.94, 347349.0, 66950.0, 62250.0, 969.45, 11300.0, 48050.0, 163600.0, 12300.0, 1624.75, 4125.0, 38944.9, 268375.0, 19292.0, 110958.15, 52475.0, 41905.0, 188285.0, 100050.0, 152183.74, 118503.84, 3260.0, 13295.1, 41309.94, 130050.0, 58701.28, 1520.0, 24616.0, 183600.0, 67257.7, 85299.0, 179750.0, 39012.0, 246168.66, 237755.73, 59997.0, 35595.0, 23292.09, 81541.37, 21000.0, 85399.15, 105949.99, 11381.31, 160199.87, 72666.75, 13425.0, 9900.0, 20700.0, 1000.0, 111435.26, 703406.75, 2950.0, 100470.05, 101768.96, 7560.0, 33637.86, 8684.2, 5800.0, 16145.54, 76814.22, 132433.36, 392006.61, 275378.73, 189540.0, 363557.99, 610.0, 39750.0, 276058.0, 19299.0, 36119.61, 137349.0, 2500.0, 106400.0, 851237.64, 42660.0, 56618.0, 15932.5, 10442.0, 16592.67, 101839.62, 199194.24, 59317.44, 28557.98, 431108.39, 199975.0, 3959.6, 38276.01, 27850.0, 118990.0, 81350.0, 122591.52, 1062890.7799999998, 362009.38, 18025.0, 2500.0, 21478.0, 94982.33, 195550.0, 73100.0, 13300.0, 312643.9, 243046.13, 206278.24, 119926.52, 30000.0, 89050.0, 85500.0, 284326.71, 7000.0, 3150.0, 198316.76, 167853.52000000002, 8682.92, 103352.86000000002, 22073.0, 230716.94, 300450.0, 56062.59, 298025.0, 70799.0, 385986.55, 2872.94, 484950.0, 257475.0, 294400.23, 46349.54, 77686.42, 19800.6, 10540.0, 33700.0, 50450.0, 15771.72, 13425.0, 257381.39, 18000.0, 64035.08, 67257.7, 12450.0, 13910.0, 1000.0, 201380.0, 2700.0, 9600.0, 8609.29, 268705.3, 1492051.22, 1010.64, 19175.0, 54448.38, -100.0, 214407.24, 154021.52000000002, 21270.28, 234980.0, 31975.0, 3050.0, 81854.0, 325973.98, 5650.0, 7000.0, 153450.0, 177197.45, 1574.8000000000006, 10300.0, 297891.0, 96882.1, 212693.31, 327500.0, 8619.0, 1000.0, 6847.7, 5238.0, 132366.0, 138207.45, 58701.28, 311045.72000000003, 15283.67, 20650.0, 38200.26, 21318.0, 81510.0, 128901.0, 774062.76, 37070.5, 94982.33, 63600.0, 42911.89, 21478.0, 2000.0, 41147.81, 82605.0, 143550.0, 11767.0, 240734.34, 32066.03, 228809.6, 130050.0, 273.0, 147276.38999999998, 6449.09, 173060.0, 128901.0, 1000.0, 6665.0, 73355.18, 4499.0, 6116.0, 289703.0, 496836.29, 11100.0, 21387.25, 31975.0, 77049.62, 1100.0, 9100.28, 93450.0, 6175.0, 10313.18, 174978.59, 168817.08000000002, 87900.0, 33540.0, 145850.0, 1690.94, 35255.0, 91672.0, 40215.0, 1000.0, 11400.0, 1100.0, 496836.29, 109200.0, 143528.54, 10600.0, 178567.63, 85700.0, 63250.0, 22481.0, 42975.0, 16000.0, 8550.0, 354812.02, 38956.32, 3075.38, 33650.0, 74033.77, 5350.0, 305657.26, 29785.0, 480.0, 473745.52, 41500.0, 19016.47, 116650.0, 95115.0, 3000.0, 224716.22, 73938.75, 101742.0, 173867.0, 7708.0, 13310.0, 19357.6, 250.0, 161700.0, 481363.55, 92052.36, 12199.88, 144731.51, 210.0, 6192.08, 309308.64, 397700.0, 32645.0, 663437.5800000001, 57585.0, 43500.0, 19432.86, 730.0, 14805.6, 22392.51, 19175.0, 56005.71, 40919.52, -31.0, 96882.1, 5.0, 96806.29, 68865.0, 56479.99, 161573.0, 156560.85, 5590.0, 64710.0, 131456.33000000002, 4750.0, 44134.0, 30375.0, 14196.24, 901.0, 150845.0, 213460.87, 13800.0, 2400.0, 750.0, 137349.0, 74501.85, 148900.0, 96266.0, 199194.24, 352731.7200000001, 344381.61, 12039.41]\n",
            "Predictions : [111669.35866978628, 112026.36123630017, 112566.02588233484, 113027.5645879988, 110828.14374344342, 112791.978834651, 112015.39324626002, 113752.76168368274, 112727.53845611506, 112260.71668344345, 113348.17779708335, 112579.33230617837, 112571.94390497849, 112155.79770154186, 112292.06051454988, 117121.39539824502, 111861.14826226319, 113319.57371642947, 112550.98803054693, 113568.9232361498, 112931.06480529993, 112560.84750440322, 112887.29969465379, 114507.0224439503, 111993.76890198703, 112737.69836248239, 112580.41412196598, 133291.63697049182, 112919.49139318852, 113231.90394070376, 114826.97157838136, 112526.50421026687, 110635.94142834173, 112376.47875108314, 110732.14338968004, 115232.37733425967, 112100.28436627162, 112636.71528883645, 134850.2356727424, 114375.71560399448, 88634.1275729962, 112629.72441373329, 112356.68609981348, 110869.87068963335, 112372.18852520922, 112397.70697681593, 112422.61178286489, 113232.39802602002, 110980.43775021937, 112560.75066380153, 108109.16820720024, 111462.44094373958, 114760.92869547803, 113316.69373548351, 227904.89144504274, 112832.10676690344, 113464.87026466709, 124280.71841096265, 112428.28824402997, 112582.57579469583, 112161.59476315638, 112580.41412196598, 112504.742671683, 112520.76119697568, 115270.79898800077, 113948.15703684132, 114437.24917494177, 113073.55377807091, 437711.92601957056, 112358.04048747303, 81714.9264070354, 114349.67079240475, 111924.01607798367, 112706.95013249769, 112215.59378516472, 113109.20095132042, 113357.25622512658, 113612.22355322956, 114334.23279767363, 154905.38115774078, 112867.81440641731, 112421.61678367823, 114770.68328793223, 113148.87297943955, 112502.24080191406, 117002.51792522332, 112898.36572245152, 112474.36996175487, 112182.88106437767, 112531.35773260175, 112979.41806801737, 112632.40750040745, 113675.60650213572, 112022.42298023462, 116489.93268932427, 112651.08773794393, 114523.81910531451, 112625.64186046053, 112592.5017158373, 112177.21205175805, 112273.06667824116, 112203.79368051646, 113039.99369339191, 112687.48115542569, 116058.49232482653, 112613.02737829303, 112715.05129524165, 112792.64547211108, 112452.91406284907, 112849.48204486298, 112669.32845012809, 114144.59675609715, 112465.33536035173, 112435.27006938339, 112463.56544826644, 112420.41853860232, 112520.23929680011, 113229.73778739288, 112646.39443560809, 112939.45480655387, 113028.38311511891, 113656.76361670102, 112352.55919096504, 112891.14155624762, 112281.10967579621, 112346.22757570798, 114595.23849794, 113556.19026344769, 112514.19596500158, 117712.34381047235, 114929.35812676499, 113609.09718009274, 112403.27656216607, 113183.05020876566, 112579.82961409177, 112420.44667945048, 112060.6876513148, 112248.16975313447, 112669.13355442866, 125137.98535106146, 115502.76727300655, 117449.58775339572, 112279.47733343444, 116648.42490410329, 112280.46336638456, 114593.95024541861, 113132.69752026985, 112514.19596500158, 112935.61799421531, 119967.56598492703, 114798.21801375753, 112661.55678230055, 112499.20739060112, 112762.99111067763, 113368.08668517071, 113312.89972551077, 113176.62392434796, 112379.84740088436, 109123.89061499079, 112740.83187143375, 112530.72757754328, 111933.3819015152, 118928.0383715734, 112501.97594377043, 112585.77592409073, 120443.6563362645, 112394.05069777003, 112787.1341275856, 112504.742671683, 112383.77001697393, 114165.5061660865, 113060.5045092443, 112070.50608069211, 112012.4904230656, 114245.22737185517, 112505.33472300203, 112502.94058247807, 112582.53594769527, 112523.54063911967, 112597.3172266915, 112477.54915478342, 120203.77227269892, 112690.22750732629, 112306.0499782812, 112456.45860296005, 113746.42419823608, 113148.27504091083, 112483.3518264818, 112504.26134098225, 112220.167431329, 112435.4879987609, 112660.08674246082, 112544.02939233274, 112116.93917064527, 112027.8053384645, 112546.57438743587, 112480.77564949443, 113614.72681282784, 112597.90888992116, 113210.64760101712, 112967.59141796258, 111957.34266464472, 112297.63763140714, 115835.41702042684, 112716.8382128165, 697557.1529586476, 113005.23410950834, 112200.0752860006, 112196.2965181439, 133001.8611966095, 114786.907694237, 112450.29823164067, 112430.59393492325, 112160.18344089964, 115246.70431406947, 114131.03861395639, 112732.28972695657, 112755.83552479555, 112535.45774256942, 112566.4860461572, 115492.40769003576, 112346.10628299574, 114172.45181035591, 112245.86950765885, 112563.24355415154, 117275.042565007, 112630.34012196836, 112485.41440273057, 112371.01516158598, 112396.53187272478, 113971.70480180717, 118421.32494800488, 113472.07010286541, 112558.62617409183, 112421.01662119, 117621.05036764726, 116343.9845780172, 112945.09040705625, 114347.56660516254, 212862.23965633157, 113540.31528018144, 112588.21940555838, 113095.55121518792, 112593.02216587999, 113723.31632870974, 112237.19816731982, 112881.5303483181, 131283.6386010095, 113249.59310661019, 112509.3799360854, 112527.27351349828, 112574.98567010055, 112992.41834794248, 112458.56611894193, 114774.19790627371, 123211.60552494042, 112256.74732104101, 116374.16555818134, 112776.45316976836, 110789.9882443861, 112657.40488210699, 112717.90405854804, 112665.75266121438, 112406.39442388706, 112247.1517643348, 112595.16396724837, 112139.42774812825, 112746.23164064996, 112369.08169027207, 112766.21405240799, 112582.9412610504, 113522.31591816404, 113310.7077842909, 114128.25891638557, 113166.35610891154, 115535.20965806146, 112866.44307598747, 112331.01542941225, 112689.01402702655, 112571.42148149775, 112531.86850942616, 112849.5709328098, 112567.09835564015, 112640.31002620571, 112518.2205156442, 112450.12618167436, 112818.16579714273, 112528.3792978562, 112913.10585853382, 112115.36300114039, 113848.5070914889, 112879.71589684486, 112782.37512436957, 112485.3066939357, 112356.71220364206, 112295.72586371741, 112530.9059912867, 112528.95379819127, 112504.26134098225, 112266.5655916086, 112875.27569994632, 112729.95455901956, 112615.64484060215, 112581.27160161297, 112943.47906275885, 118835.87246242602, 112617.28399420524, 113151.05286179052, 112651.08773794393, 112227.9937463968, 112993.52880182087, 230974.2716992002, 112681.28905020123, 112983.52138092852, 112369.27332278338, 114964.98366217234, 113118.00220189618, 112068.27780570177, 115472.57144961772, 112270.62669671612, 113228.43620629024, 113713.25560416265, 112600.36898703425, 112595.16396724837, 113004.45579889501, 128750.84039234705, 112357.6671007411, 112393.67286405788, 112392.37714818005, 112826.48233152974, 115495.85088068905, 119101.01715447387, 112656.92107060681, 111798.44203563491, 112231.8580175744, 115044.68061727776, 112282.52670137101, 112752.03790041369, 112428.03353089285, 112312.18078851108, 117096.61155898879, 112781.64700102045, 112266.09800701236, 113499.1037978987, 112551.28063234316, 112566.4860461572, 114212.30958885694, 113279.2059916149, 112196.33254388443, 112701.7068484818, 113018.77492626288, 112196.93557249178, 111749.92004360545, 114639.07952789123, 113013.47664453498, 167964.34515343714, 113826.63310644742, 131621.73096371873, 112587.82601901454, 112065.36157004448, 141396.67150697715, 112227.18573237548, 113436.90526923639, 109284.49140130394, 114080.44342219322, 118711.28059830687, 112522.56250654414, 133584.82150380436, 112733.35002832726, 112613.94062229189, 118141.28634133046, 112816.38182753368, 113210.8222086458, 112182.35363121175, 112569.24716761452, 112566.4860461572, 112957.71306498963, 113559.27974388986, 117469.79768450772, 113552.14116111658, 112398.89124720104, 112949.80912174338, 112612.79709634498, 112631.70880805301, 112569.64080499379, 112366.91898052598, 112549.6234783665, 110576.98205572982, 112618.02490920041, 113442.72119232523, 112312.3533712987, 115141.22930433396, 111862.12069082596, 112443.16883554746, 112756.77965055134, 112169.76868439693, 112589.40748080132, 112918.67727112744, 112478.00806976893, 112695.6005420697, 112456.58325393603, 112363.86240255059, 113064.59765474235, 112320.16457810959, 111145.08390700437, 112202.64602981081, 124731.36365626575, 112538.53460830585, 112258.19894668927, 112571.11582161367, 112881.09420747467, 112995.00643200231, 113675.60650213572, 112963.68918722485, 113942.93879801805, 117941.57350393967, 115274.100569488, 112264.01455503356, 112965.01365152127, 112510.62031338539, 112360.30072686344, 112171.23551120228, 112314.1047399317, 112605.06203166755, 112296.8958515544, 112659.23099697537, 113324.40133895403, 114096.14932922181, 112643.18431505172, 112478.12518732324, 113863.43408571408, 112393.44377992378, 112239.75486930726, 111921.97680246206, 114379.81048520328, 112627.56089452365, 112612.79393596538, 173920.94837410707, 112882.24542057305, 112515.65044877504, 112904.82176790539, 112934.94428243423, 112264.678476711, 112508.71419048868, 113556.93881425218, 112126.64465245143, 113741.02532596495, 112423.45485717144, 112569.64080499379, 114536.39184315795, 112190.2022146291, 112264.304084258, 114198.20005740131, 112494.57392969367, 112936.15913812895, 112666.5938202911, 112628.92216628986, 113041.28908914106, 136175.97952047715, 111932.85327259358, 112981.167131073, 113421.30979977925, 112502.01037079368, 112160.74586387588, 113232.45773374928, 112381.04378538496, 112331.5541172372, 113501.26737746326, 112174.39640160662, 112600.36943183065, 113086.041863742, 114904.14828402357, 112748.17338372741, 112793.9137623414, 112398.0449471943, 112206.9786448155, 125703.89865840772, 112351.19938604614, 112835.3012120808, 112490.60434980945, 112557.38720882761, 113810.93676524198, 144690.25370392422, 112741.24073594154, 112579.6106247106, 112548.0436182087, 113736.24860128232, 112718.06472295235, 113259.11970765267, 124196.60737800207, 112535.70801611656, 112523.99486710923, 115202.31133280891, 112150.61493695997, 113187.8494842877, 117592.68463613135, 123034.1019095547, 114651.20482318246, 114219.34172446048, 113346.90205133201, 112292.65005220144, 112565.2548394219, 115196.89537459453, 113733.69317113968, 112086.89971288624, 112535.33762746147, 112125.10604903697, 114309.32239149458, 112262.81778700967, 112804.22591030557, 112262.02098108905, 111752.61079334022, 114549.45421934736, 113560.70737898578, 112573.6798114614, 112009.90786007253, 112649.1423287718, 117104.95441820104, 113157.18637419332, 148480.54024342055, 113234.62014166606, 112543.45218612527, 112580.95240475234, 122121.98733611948, 112000.50490930921, 112554.08652401695, 112780.6088103042, 112456.04491766907, 112542.80517881941, 113339.18047123615, 116060.23635670017, 115300.87448745489, 125182.04857994836, 112631.66844550658, 152375.11528147594, 112382.58456214886, 112669.0868258565, 112597.68308476631, 117047.7818779893, 112824.02043693028, 113222.2926412261, 113824.91447431772, 114666.59648169987, 112592.34914189878, 112539.97951418479, 111045.59174059711, 111845.32536504847, 110798.80235355734, 112217.32470786154, 112292.65005220144, 115257.43318877583, 112358.2897145036, 115061.73527837745, 114976.61804694861, 112687.7190923827, 112378.5582978896, 112619.09876528582, 112271.12193243892, 113942.89254631399, 112791.21712490755, 112411.49142038143, 112929.71292366479, 112429.50500822539, 112525.82845653185, 112786.37962911114, 112503.24679363245, 112425.75555764738, 112626.28620577895, 114913.26068201283, 112488.96118232458, 112453.17147773427, 113729.18925048957, 112173.3656005549, 112704.52857356406, 113287.02888815643, 114175.7363420245, 226015.1447490789, 112601.28089388454, 154952.4321655635, 113071.53239404148, 112415.03703185037, 112268.13059826917, 112587.17330857248, 113364.23369460924, 113615.70793795217, 112609.7441490913, 112799.06400606224, 112531.0078858714, 112338.61634678901, 115719.1180444758, 112303.18381368715, 112086.89971288624, 112232.14067281058, 112614.26094079023, 112745.80134490387, 113101.5841422596, 112591.27213999852, 112453.84679876202, 113635.51313758301, 187048.62105133757, 112408.57165147814, 112559.86106632947, 112196.52243781116, 113069.30126671374, 115485.0313586588, 112381.42003366357, 113277.77489974917, 117166.61398959202, 112216.65422352137, 181146.3620170811, 112769.70898674066, 112351.6521170158, 112353.49690167344, 112949.80912174338, 112223.32680790396, 113399.747269442, 112683.0529931625, 111907.140632948, 112626.30255961101, 112607.90923573774, 112271.62883925423, 112487.70213158811, 114217.70036960492, 111865.4388521359, 112354.30142727493, 112616.99920805382, 112937.42618169196, 112301.8380645552, 112228.91643811927, 114131.03861395639, 112357.16169683078, 114440.02447673395, 115094.03260277786, 112625.73126369243, 112545.71985030264, 113331.78400333718, 112547.30863765838, 112449.53999821965, 112642.79483128536, 114805.85981849513, 113697.95760644681, 112705.94097105949, 112628.80391313696, 112353.98490509015, 112579.79889645963, 112543.125352275, 112619.66390236309, 112602.9158456486, 112526.46869310355, 112820.18782165836, 112656.14615970553, 112319.91861361329, 112427.34693463362, 112982.36232317038, 120460.06149460115, 113079.19715436213, 113315.70479360213, 112319.50054445094, 112359.93271390397, 115453.22897877202, 113505.77622275818, 112312.79233592868, 112719.52860876657, 112427.06324060807, 112725.22078436578, 112735.25400241419, 112501.41394192152, 111800.98265292388, 113040.76945673152, 115840.230394905, 111971.59653627884, 114978.45465999881, 112573.95596961945, 113260.2041317156, 114411.72736432341, 112256.11301718961, 112717.28597098158, 113489.99968681429, 112778.44086635736, 115405.65387522243, 114624.41875419943, 116506.06558008309, 154782.85884867422, 112422.32502455682, 112479.9149151669, 113138.82588718251, 112378.3866037503, 112601.43541064131, 112712.40091800835, 127880.75205143157, 115657.29596326103, 152946.4944453181, 595797.6217497551, 113599.12977881217, 112296.98710318249, 114501.98801400828, 112965.33179371465, 114020.71422161433, 114476.61152680492, 112491.92194839277, 113061.73109308738, 112595.34399136885, 112403.1368417643, 115880.26379664877, 131923.03928074057, 112120.15756984732, 114027.7448022689, 112596.071526227, 112478.0328884519, 114774.37821220818, 121226.41120242282, 112382.24164990152, 113500.23367628784, 113520.96306199099, 112504.37055853047, 112337.94346038642, 112445.76042261567, 135737.36933035016, 114161.20404869813, 112392.06131689572, 115304.37237003069, 113314.95905572207, 112146.68250238932, 137442.32020075023, 112431.99330593122, 115410.18885030915, 112020.6286202759, 112137.5910409552, 112572.01855245305, 114617.68920319193, 112695.52730892226, 141584.33217367102, 112090.82838087197, 116042.34447330721, 112641.81441847602, 112983.68075431747, 112532.37678280682, 112480.59606872858, 112756.29731978325, 112404.03519035387, 113277.77489974917, 111515.76981262161, 114517.32393728926, 112389.75227027644, 112318.407411628, 112488.7974459509, 112411.90666739477, 115542.14975060266, 115150.59780538076, 112355.844224322, 112860.73557806535, 112375.21101386158, 112461.42284613517, 115102.74486259822, 112484.74146698788, 112326.89874525147, 112336.69834842537, 112014.64741392771, 112312.42159088713, 112589.93010566855, 112567.24934002532, 112362.72571548997, 112384.74868899977, 114893.49395374658, 113339.18047123615, 112935.02559565338, 112352.43627836315, 114014.50880974843, 112860.544261981, 113147.47484823216, 112767.26662134119, 112648.25366300716]\n"
          ],
          "name": "stdout"
        }
      ]
    },
    {
      "cell_type": "code",
      "metadata": {
        "id": "8ZeWiSw3_WUE",
        "colab": {
          "base_uri": "https://localhost:8080/"
        },
        "outputId": "26311ba8-cac3-43be-e566-8c332647d345"
      },
      "source": [
        "from sklearn.metrics import mean_absolute_error\n",
        "\n",
        "mean_absolute_error(list(ytest.values), list(yhat.values))"
      ],
      "execution_count": null,
      "outputs": [
        {
          "output_type": "execute_result",
          "data": {
            "text/plain": [
              "102241.58922282116"
            ]
          },
          "metadata": {
            "tags": []
          },
          "execution_count": 62
        }
      ]
    },
    {
      "cell_type": "code",
      "metadata": {
        "id": "LVdekWSRGj_G",
        "colab": {
          "base_uri": "https://localhost:8080/"
        },
        "outputId": "71dc02fa-237c-47c2-d336-41b883af9156"
      },
      "source": [
        "def mape(actual, pred): \n",
        "    epsilon = np.finfo(np.float64).eps\n",
        "    mape = np.abs(pred - actual) / np.maximum(np.abs(actual), epsilon)\n",
        "    output_errors = np.average(mape, axis=0)\n",
        "\n",
        "    return np.average(output_errors)\n",
        "mape(ytest, yhat)"
      ],
      "execution_count": null,
      "outputs": [
        {
          "output_type": "execute_result",
          "data": {
            "text/plain": [
              "99.47875212332049"
            ]
          },
          "metadata": {
            "tags": []
          },
          "execution_count": 63
        }
      ]
    },
    {
      "cell_type": "code",
      "metadata": {
        "id": "LY8lQheRu94l",
        "colab": {
          "base_uri": "https://localhost:8080/"
        },
        "outputId": "1cf133f9-049f-4c69-ecda-8558243a5594"
      },
      "source": [
        "# Guassian regression\n",
        "mod = sm.GLM(endog, exog, family=sm.families.Gaussian())\n",
        "res = mod.fit()\n",
        "# performing predictions on the test datdaset\n",
        "yhat = res.predict(sm.add_constant(Xtest[['wealth', 'income']]))\n",
        "mape(ytest, yhat)"
      ],
      "execution_count": null,
      "outputs": [
        {
          "output_type": "execute_result",
          "data": {
            "text/plain": [
              "97.74934301791583"
            ]
          },
          "metadata": {
            "tags": []
          },
          "execution_count": 64
        }
      ]
    },
    {
      "cell_type": "code",
      "metadata": {
        "id": "BDVYQYmnvKjU",
        "colab": {
          "base_uri": "https://localhost:8080/"
        },
        "outputId": "702cc108-d524-423a-d611-5e380d627cbe"
      },
      "source": [
        "# Normal distribution + log link function\n",
        "mod = sm.GLM(endog, exog, family=sm.families.Gaussian(sm.families.links.log()))\n",
        "res = mod.fit()\n",
        "# performing predictions on the test datdaset\n",
        "yhat = res.predict(sm.add_constant(Xtest[['wealth', 'income']]))\n",
        "mape(ytest, yhat)"
      ],
      "execution_count": null,
      "outputs": [
        {
          "output_type": "execute_result",
          "data": {
            "text/plain": [
              "98.98443702487111"
            ]
          },
          "metadata": {
            "tags": []
          },
          "execution_count": 65
        }
      ]
    },
    {
      "cell_type": "code",
      "metadata": {
        "id": "KBcO-u2a3Yy5"
      },
      "source": [
        "!pip install eli5\n",
        "import eli5\n",
        "from eli5.sklearn import PermutationImportance"
      ],
      "execution_count": null,
      "outputs": []
    },
    {
      "cell_type": "code",
      "metadata": {
        "id": "22HFk6Qubfdg"
      },
      "source": [
        "ytrain = np.ravel(ytrain)\n",
        "ytest = np.ravel(ytest)"
      ],
      "execution_count": null,
      "outputs": []
    },
    {
      "cell_type": "code",
      "metadata": {
        "id": "Gw3H4f0UbikH"
      },
      "source": [
        "from sklearn import svm\n",
        "from sklearn.pipeline import make_pipeline\n",
        "from sklearn.preprocessing import StandardScaler\n",
        "\n",
        "def mape(actual, pred): \n",
        "    epsilon = np.finfo(np.float64).eps\n",
        "    mape = np.abs(pred - actual) / np.maximum(np.abs(actual), epsilon)\n",
        "    output_errors = np.average(mape, axis=0)\n",
        "\n",
        "    return np.average(output_errors)\n",
        "\n",
        "regr = make_pipeline(StandardScaler(), svm.SVR(C=10e7, epsilon=0.2, gamma=1000))\n",
        "svr = regr.fit(Xtrain[['wealth', 'income', 'liability', 'asset', 'unearned_income', 'income_earned']], ytrain)\n",
        "ypred = regr.predict(Xtest[['wealth', 'income', 'liability', 'asset', 'unearned_income', 'income_earned']])\n",
        "mape(ytest, ypred)"
      ],
      "execution_count": null,
      "outputs": []
    },
    {
      "cell_type": "code",
      "metadata": {
        "id": "YMuVt54-bi7N"
      },
      "source": [
        "print('Acutal values :', list(ytest))\n",
        "print('Predictions :', list(ypred))"
      ],
      "execution_count": null,
      "outputs": []
    },
    {
      "cell_type": "code",
      "metadata": {
        "id": "YFYsDzkwbcUe"
      },
      "source": [
        "perm = PermutationImportance(svr, random_state=1).fit(Xtest[['wealth', 'income', 'liability', 'asset', 'unearned_income', 'income_earned']], ytest)\n",
        "eli5.show_weights(perm, feature_names = Xtest[['wealth', 'income', 'liability', 'asset', 'unearned_income', 'income_earned']].columns.tolist())"
      ],
      "execution_count": null,
      "outputs": []
    },
    {
      "cell_type": "markdown",
      "metadata": {
        "id": "L0nfCqdtHXoW"
      },
      "source": [
        "### All Attributes"
      ]
    },
    {
      "cell_type": "code",
      "metadata": {
        "id": "5oxY-E3CHZ6I"
      },
      "source": [
        "exog, endog = sm.add_constant(Xtrain), ytrain\n",
        "\n",
        "# Poisson regression\n",
        "# mod = sm.GLM(endog, exog, family=sm.families.Poisson(link=sm.families.links.log()))\n",
        "# res = mod.fit()\n",
        "# display(res.summary())\n",
        "\n",
        "# Guassian regression\n",
        "# mod = sm.GLM(endog, exog, family=sm.families.Gaussian())\n",
        "# res = mod.fit()\n",
        "# display(res.summary())\n",
        "\n",
        "# Normal distribution + log link function\n",
        "mod = sm.GLM(endog, exog, family=sm.families.Gaussian(sm.families.links.log()))\n",
        "res = mod.fit()\n",
        "# performing predictions on the test datdaset\n"
      ],
      "execution_count": null,
      "outputs": []
    },
    {
      "cell_type": "code",
      "metadata": {
        "id": "3ijZm8VZHbqj"
      },
      "source": [
        "# performing predictions on the test datdaset\n",
        "yhat = res.predict(sm.add_constant(Xtest))"
      ],
      "execution_count": null,
      "outputs": []
    },
    {
      "cell_type": "code",
      "metadata": {
        "id": "uQtaofTyHdXw",
        "colab": {
          "base_uri": "https://localhost:8080/"
        },
        "outputId": "4335d384-af9c-4275-f813-3bc47d74fda1"
      },
      "source": [
        "from sklearn.metrics import mean_absolute_error\n",
        "\n",
        "mean_absolute_error(list(ytest.values), list(yhat.values))"
      ],
      "execution_count": null,
      "outputs": [
        {
          "output_type": "execute_result",
          "data": {
            "text/plain": [
              "95291.33939488127"
            ]
          },
          "metadata": {
            "tags": []
          },
          "execution_count": 103
        }
      ]
    },
    {
      "cell_type": "code",
      "metadata": {
        "id": "foSKLRU4Hee8",
        "colab": {
          "base_uri": "https://localhost:8080/"
        },
        "outputId": "6e8495f9-a32a-41d5-a4ba-9aaffd2b7319"
      },
      "source": [
        "def mape(actual, pred): \n",
        "    epsilon = np.finfo(np.float64).eps\n",
        "    mape = np.abs(pred - actual) / np.maximum(np.abs(actual), epsilon)\n",
        "    output_errors = np.average(mape, axis=0)\n",
        "\n",
        "    return np.average(output_errors)\n",
        "mape(ytest, yhat)"
      ],
      "execution_count": null,
      "outputs": [
        {
          "output_type": "execute_result",
          "data": {
            "text/plain": [
              "40.64673388404003"
            ]
          },
          "metadata": {
            "tags": []
          },
          "execution_count": 113
        }
      ]
    },
    {
      "cell_type": "markdown",
      "metadata": {
        "id": "mvngIBK-UCuP"
      },
      "source": [
        "### SVM Regression"
      ]
    },
    {
      "cell_type": "code",
      "metadata": {
        "id": "SjN2s9aGUYaK"
      },
      "source": [
        "ytrain = np.ravel(ytrain)\n",
        "ytest = np.ravel(ytest)"
      ],
      "execution_count": null,
      "outputs": []
    },
    {
      "cell_type": "code",
      "metadata": {
        "id": "sJNze2l_UB2r",
        "colab": {
          "base_uri": "https://localhost:8080/"
        },
        "outputId": "0b574629-f418-42f2-9977-81f927bcab69"
      },
      "source": [
        "from sklearn import svm\n",
        "from sklearn.pipeline import make_pipeline\n",
        "from sklearn.preprocessing import StandardScaler\n",
        "\n",
        "def mape(actual, pred): \n",
        "    epsilon = np.finfo(np.float64).eps\n",
        "    mape = np.abs(pred - actual) / np.maximum(np.abs(actual), epsilon)\n",
        "    output_errors = np.average(mape, axis=0)\n",
        "\n",
        "    return np.average(output_errors)\n",
        "\n",
        "regr = make_pipeline(StandardScaler(), svm.SVR(kernel='linear', C=10e7, epsilon=0.2, gamma='scale'))\n",
        "svr = regr.fit(Xtrain, ytrain)\n",
        "ypred = regr.predict(Xtest)\n",
        "mape(ytest, ypred)"
      ],
      "execution_count": null,
      "outputs": [
        {
          "output_type": "stream",
          "text": [
            "/usr/local/lib/python3.6/dist-packages/sklearn/utils/validation.py:760: DataConversionWarning: A column-vector y was passed when a 1d array was expected. Please change the shape of y to (n_samples, ), for example using ravel().\n",
            "  y = column_or_1d(y, warn=True)\n"
          ],
          "name": "stderr"
        },
        {
          "output_type": "execute_result",
          "data": {
            "text/plain": [
              "15.243046442855091"
            ]
          },
          "metadata": {
            "tags": []
          },
          "execution_count": 119
        }
      ]
    },
    {
      "cell_type": "code",
      "metadata": {
        "id": "a2w-UMgjTOG0",
        "colab": {
          "base_uri": "https://localhost:8080/"
        },
        "outputId": "8bb654d6-3007-40a5-dab7-f9358ea06c61"
      },
      "source": [
        "print('Acutal values :', list(ytest))\n",
        "print('Predictions :', list(ypred))"
      ],
      "execution_count": null,
      "outputs": [
        {
          "output_type": "stream",
          "text": [
            "Acutal values : [11980.23, 188604.49, 484.25, 332130.13, 11500.0, 27735.0, 15619.62, 388806.52, 2567.9, 3250.0, 347349.0, 175933.32, 25940.0, 9075.0, 2350.0, 184296.22, 10740.0, 359198.35, 4999.51, 239586.25, 250.0, 55.0, 27735.0, 67616.95, 3950.0, 21250.0, 117418.1, 74033.77, 242585.0, 100525.0, 250.0, 19970.0, 41444.5, 21270.28, 105045.24, 490432.65, 192959.0, 72970.84, 582532.86, 185060.0, 48872.18, 106750.11, 270941.2, 88765.0, 2872.94, 136019.32, 140778.0, 102569.0, 11500.0, 559.6, 18016.95, 4500.0, 200820.0, 107850.0, 263028.1, 16542.66, 34540.52, 6101.110000000002, 119527.0, 25883.32, 267325.0, 117418.1, 62653.02, 175933.32, 90947.5, 42975.0, 6000.0, 41150.0, 138420.0, -9.0, 250.0, 308780.0, 166762.75000000006, 37650.0, 64320.0, 5662.17, 235624.58, 31047.75, 764948.14, 32994.0, 155983.85, 115723.0, 6875.0, 11250.0, 7700.0, 241031.41, 213270.0, 42321.0, 152463.44, 20350.0, 102569.0, 24618.81, 13321.76, 131712.0, 127207.78, 138554.69, 12900.0, 50.0, 5100.0, 5499.0, 78371.0, 512242.75, 19892.97, 96450.0, 244321.7, 63900.0, 211675.3, 140772.68, 101550.0, 30160.0, 507327.21, 96266.0, 62016.52, 1350.0, 21757.36, 211246.41, 25849.7, 521363.78, 50065.0, 101717.2, 19275.0, 14259.42, 2700.0, 50500.0, 10000.0, 19016.47, 67940.0, 18350.0, 4966.63, 119674.86, 41125.0, 118335.0, 4750.0, 63815.0, 4751.0, 149300.0, 106330.32, 300840.82, 30644.77, 188500.0, 173648.83000000002, 819204.86, 18995.0, 93515.75, 26814.8, 19224.32, 28416.45, 4966.63, 12764.9, 154160.24, 17600.0, 77261.55, 5501.0, 235125.27, 7950.0, 359601.08, 50698.0, 19624.98, 69361.5, 114135.5, 4000.0, 44134.0, 37557.71, 23098.0, 68.25, 26700.0, 380307.45, 3510.0, 62653.02, 102687.17, 63824.66, 43550.0, 50.0, 42335.0, 122531.94, 71750.0, 1650.0, 87259.9, 5050.0, 1385.0, 18995.0, 691686.06, 4700.0, 20100.0, 4545.67, 41309.94, 535436.14, 44025.0, 29604.0, 5350.0, 10000.0, 38187.89, 37650.36, 34166.9, 160849.0, 17800.0, 524.7800000000002, 117175.0, 45000.0, 81114.15, 319150.0, 52931.5, 500.0, 1312450.0, 375539.94, 140255.0, 271127.52, 57835.0, 312693.82, 237400.0, 80069.73, 4950.0, 468.0, 85583.65, 85984.54000000001, 6847.7, 122512.57, 215948.08, 6455.0, 2258.4300000000007, 28071.61, 179500.0, 119833.84, 136280.0, 236566.16, 34611.0, 33559.47, 134300.24, 62016.52, 12561.0, 118880.0, 599835.0, 178664.63999999996, 810.0, 73190.62, 127362.8, 10111.86, 354.0, 197978.33, 7626.69, 455093.4, 2016.7, 43550.0, 11973.0, 37315.75, 111210.11, 29310.0, 31975.0, 496.0, 40850.0, 155184.44, 40000.0, 31213.23, 117750.0, 96750.0, 188271.97, 267.04, 230441.22, 7500.0, 99604.37, 3770.0, 10216.75, 153388.81, 169220.2, 75311.0, 80125.0, 44200.0, 123465.59, 279054.2, 56481.47, 12016.0, 26968.0, 110300.0, 9700.0, 280308.08, 126199.4, 78900.0, 140.0, 76146.0, 24620.0, 229946.26, 234599.95, 8835.9, 195435.46, 12.0, 33134.66, 3047.12, 112461.98, 39650.0, 500.0, 85300.0, 78900.0, 155983.85, 135201.4, 16015.6, 72840.3, 179500.0, 564.95, 29604.0, 136991.0, 5566.42, 33000.0, 140772.68, 76833.54000000001, 301879.0, 166567.01, 125215.0, 8557.99, 2000.0, 1350.0, 167900.0, 259444.15, 40600.0, 453872.14, 90200.0, 56250.0, 4000.0, 3862.21, 182259.5, 72550.0, 2700.0, 147235.0, 68950.31, 937.1, 5750.0, 45200.42, 108098.23, 15666.15, 143424.73, 14933.09, 2250.0, 351971.09, 1000.63, 123280.0, 16750.0, 217340.09, 3850.0, 145363.51, 6880.0, 65516.7, 154160.24, 543402.0, 463654.5, 36816.0, 255511.7, 53950.0, 20900.0, 59997.0, 2889.51, 250.0, 97285.0, 14706.25, 15166.27, 75804.75, 215673.64, 77311.87, 116550.76, 15166.27, 9331.7, 488734.0, 341763.45, 3500.0, 178664.63999999996, 71285.35, 120450.0, 297175.57, 200.0, 8700.0, 890.0, 18000.0, 2120.0, 5990.0, 230716.94, 68775.1, 62000.0, 53950.0, 13066.98, 144250.0, 105008.31, 406729.0, -21.0, 31975.0, 2500.0, 252192.45, 169084.97999999998, 163809.9, 1794.36, 150250.0, 4850.0, 292700.0, 149776.73, 202950.0, 267325.0, 118350.0, 50698.0, 101785.0, 19650.0, 4230.0, 97905.82, 365517.09, 339250.0, 3389.8899999999994, 363727.5, 26814.8, 37997.62, 57835.0, 34264.46, 2500.0, 11633.36, 74050.0, 64125.0, 17042.43, 13321.76, 50899.25, 3125.0, 119674.86, 4500.0, 240734.34, 8000.0, 202625.0, 257381.39, 10754.82, 119426.94, 560.0, 20773.78, 63279.18, 1595.36, 127113.99, 19050.0, 99950.67, 15236.0, 103965.0, 178966.96, 43500.0, 45452.54, 22102.81, 106393.65, 213300.0, 2908.28, 1230.84, 41450.0, 144924.22999999998, 142649.99, 2279.0, 340630.91000000003, 32828.3, 280500.0, 13552.0, 35906.65, 31975.0, 192479.53, 147555.97, 119833.84, 69675.57, 817602.1900000002, 12400.0, 173600.0, 271120.92, 44887.27, 160896.94, 347349.0, 66950.0, 62250.0, 969.45, 11300.0, 48050.0, 163600.0, 12300.0, 1624.75, 4125.0, 38944.9, 268375.0, 19292.0, 110958.15, 52475.0, 41905.0, 188285.0, 100050.0, 152183.74, 118503.84, 3260.0, 13295.1, 41309.94, 130050.0, 58701.28, 1520.0, 24616.0, 183600.0, 67257.7, 85299.0, 179750.0, 39012.0, 246168.66, 237755.73, 59997.0, 35595.0, 23292.09, 81541.37, 21000.0, 85399.15, 105949.99, 11381.31, 160199.87, 72666.75, 13425.0, 9900.0, 20700.0, 1000.0, 111435.26, 703406.75, 2950.0, 100470.05, 101768.96, 7560.0, 33637.86, 8684.2, 5800.0, 16145.54, 76814.22, 132433.36, 392006.61, 275378.73, 189540.0, 363557.99, 610.0, 39750.0, 276058.0, 19299.0, 36119.61, 137349.0, 2500.0, 106400.0, 851237.64, 42660.0, 56618.0, 15932.5, 10442.0, 16592.67, 101839.62, 199194.24, 59317.44, 28557.98, 431108.39, 199975.0, 3959.6, 38276.01, 27850.0, 118990.0, 81350.0, 122591.52, 1062890.7799999998, 362009.38, 18025.0, 2500.0, 21478.0, 94982.33, 195550.0, 73100.0, 13300.0, 312643.9, 243046.13, 206278.24, 119926.52, 30000.0, 89050.0, 85500.0, 284326.71, 7000.0, 3150.0, 198316.76, 167853.52000000002, 8682.92, 103352.86000000002, 22073.0, 230716.94, 300450.0, 56062.59, 298025.0, 70799.0, 385986.55, 2872.94, 484950.0, 257475.0, 294400.23, 46349.54, 77686.42, 19800.6, 10540.0, 33700.0, 50450.0, 15771.72, 13425.0, 257381.39, 18000.0, 64035.08, 67257.7, 12450.0, 13910.0, 1000.0, 201380.0, 2700.0, 9600.0, 8609.29, 268705.3, 1492051.22, 1010.64, 19175.0, 54448.38, -100.0, 214407.24, 154021.52000000002, 21270.28, 234980.0, 31975.0, 3050.0, 81854.0, 325973.98, 5650.0, 7000.0, 153450.0, 177197.45, 1574.8000000000006, 10300.0, 297891.0, 96882.1, 212693.31, 327500.0, 8619.0, 1000.0, 6847.7, 5238.0, 132366.0, 138207.45, 58701.28, 311045.72000000003, 15283.67, 20650.0, 38200.26, 21318.0, 81510.0, 128901.0, 774062.76, 37070.5, 94982.33, 63600.0, 42911.89, 21478.0, 2000.0, 41147.81, 82605.0, 143550.0, 11767.0, 240734.34, 32066.03, 228809.6, 130050.0, 273.0, 147276.38999999998, 6449.09, 173060.0, 128901.0, 1000.0, 6665.0, 73355.18, 4499.0, 6116.0, 289703.0, 496836.29, 11100.0, 21387.25, 31975.0, 77049.62, 1100.0, 9100.28, 93450.0, 6175.0, 10313.18, 174978.59, 168817.08000000002, 87900.0, 33540.0, 145850.0, 1690.94, 35255.0, 91672.0, 40215.0, 1000.0, 11400.0, 1100.0, 496836.29, 109200.0, 143528.54, 10600.0, 178567.63, 85700.0, 63250.0, 22481.0, 42975.0, 16000.0, 8550.0, 354812.02, 38956.32, 3075.38, 33650.0, 74033.77, 5350.0, 305657.26, 29785.0, 480.0, 473745.52, 41500.0, 19016.47, 116650.0, 95115.0, 3000.0, 224716.22, 73938.75, 101742.0, 173867.0, 7708.0, 13310.0, 19357.6, 250.0, 161700.0, 481363.55, 92052.36, 12199.88, 144731.51, 210.0, 6192.08, 309308.64, 397700.0, 32645.0, 663437.5800000001, 57585.0, 43500.0, 19432.86, 730.0, 14805.6, 22392.51, 19175.0, 56005.71, 40919.52, -31.0, 96882.1, 5.0, 96806.29, 68865.0, 56479.99, 161573.0, 156560.85, 5590.0, 64710.0, 131456.33000000002, 4750.0, 44134.0, 30375.0, 14196.24, 901.0, 150845.0, 213460.87, 13800.0, 2400.0, 750.0, 137349.0, 74501.85, 148900.0, 96266.0, 199194.24, 352731.7200000001, 344381.61, 12039.41]\n",
            "Predictions : [28774.02228331221, 20981.097525041827, 55448.61502605332, 29508.333661955126, 75445.2762843634, 37822.94985223962, 15787.123986047038, 24848.199143883117, 56000.6864034797, 86554.99811778618, 101571.819967937, 25185.826925706395, 87448.7610110606, 44788.919445183405, 13792.889988776573, 87404.37386053456, 57573.76955873919, 37430.356565337905, 791.4737014288985, 70936.78795003546, 7174.379771139749, 25032.06766932858, 38089.68015372408, 110978.50967183364, 397661.5702168835, 84172.85238235844, 53754.06618895782, 68268.25236579431, 61788.68934440268, 60280.66740581048, 77053.26545467628, 24531.4825084622, 43886.07892956985, 12623.683071147927, -17496.098329636807, 36393.62672005249, 110331.86479313327, 68979.58847291423, 560206.8774204405, 96949.63555134488, 28017.285740810054, 71133.15658051921, 106621.67953507257, -39544.31113541844, 13586.673274558314, 23548.042192813286, 30972.72642734302, 11195.31757528735, 73383.4438629861, 24971.751616146692, 391703.5223628751, 33218.16471731318, 215415.62035632692, 61580.16955826832, 619327.3487053124, 55770.19969974113, 84820.62458812846, 72638.17848370624, 64758.88674404872, 110244.37359076393, 79284.11388747049, 53754.06618895782, 35640.12430354608, 27279.921769451626, 80652.78476133598, 84571.87425964726, 77128.61310492111, 53417.31170683754, 78697.83485220246, 3926.717351150044, 48118.035302740434, 85982.5247508253, 44079.50797017319, 53072.15178653253, 10150.466544401177, 32808.42320063365, 52807.13663645489, 79372.11259890748, 73726.59757157815, -13963.95224270197, 76906.74588153911, 1952.8506998236262, -34553.06212248998, 58451.17860336257, 3807.284626525172, 129856.05119084967, 28952.028238337763, 5796.749457117447, 13235.73956654621, 936.0849742556893, 33682.869198795684, 21804.461195390948, 42199.11294850362, 17590.512656819352, 143027.06970169797, 96347.23446701122, 99465.4828960861, 75644.74233631072, 17261.993946235903, 16079.83805794669, 8710.596757617124, 76928.79679360641, 58337.65889042271, 3901.5672542716347, 111806.54023974789, 14165.763708647617, 69458.18568955017, 119122.65097108138, -987.5073042993463, 44743.93942407919, 66647.60144289983, 71494.34153398527, 9991.245554086097, 37095.16376320673, 66922.21538820518, 55477.90545279933, 8648.59732694579, 116547.03126427186, 26431.46538655115, 78998.29558443678, 55940.23506111307, 62445.79677307261, 4666.3777277286135, 68111.65644240034, 48913.03788070036, 94982.91351323975, 86018.82983477069, 71575.91226614667, 302.64782432866923, 92330.22376219583, 84895.25003156839, 57156.36084279073, 70388.56407470656, 118592.12395928455, 4054.6436627919757, 93989.83034842862, 96727.63274876428, 125690.72438013209, 68114.21627355767, 475879.18569594907, 88183.97479845239, 340296.9952980986, 71468.14673798931, 96134.40413528336, 10928.759934123882, 95611.37164567066, 93367.3944318707, 302.64782432866923, 48693.135042976864, 38743.58333608163, 94400.85069852723, 22455.091084983476, 282.3799013907992, 35248.16387085272, 41635.94594487203, 64120.83940945221, 120905.31751754535, 5803.887885239252, -798512.6488993613, 51507.033897411355, 12501.123159598836, 58221.431791585215, 301084.754513074, 122178.56352616502, 49105.22881190134, 108356.04792596427, 39932.5308707322, 14436.204980280527, 35640.12430354608, 103248.27722739828, 105861.99348993255, 44381.878749098905, 22040.026695978173, 53750.71356229139, 87769.62005298985, 80156.18661425663, 29757.62095935298, 82265.63884016527, 43172.56899532331, 1310.7234367097699, 21112.03484899951, 138871.10412388697, 7470.953736242183, 18345.02895553065, 51229.62553050769, 47063.356467571386, 46197.05884880973, -444.38299192833074, 3124.5475319291436, 17273.316259470113, 110349.17840082599, 95683.46186765684, 6047.580674227604, 20145.433584045895, 104032.07829180015, 80508.44718832923, 2605.1130739863, 112255.60767123503, 85064.12601598752, 25041.985773798355, 123008.69398805154, 66382.26569671584, 11736.148415755757, 102325.04734335495, 13460.037819575795, 78019.53354904121, 48419.93307877732, 49663.90690137101, 16372.301408913263, 133126.91896076902, 97284.8274673487, 84946.44402362061, 39785.07768100155, 38326.379851293095, 108021.37048788024, 38898.44514593137, 81098.82051931803, 109162.59379636896, 58980.67865487588, 59280.30081589175, 114247.78971580816, 44227.36041299654, 58121.14866542471, 64726.56536334408, 83033.34839839888, 125344.58602015329, 1525.0144951309048, 73398.51933867885, 7135.512383025416, 15449.74365578247, 117710.44251921428, 210583.65663451358, 47587.290036153325, 11666.289784368404, 65032.83412283314, 186508.77612915292, 64296.53141976548, 48258.0948022495, 78120.7258534546, -87301.24629495533, 71917.71512741996, 52643.89882377935, 45224.084027421006, 52325.50993245495, 73020.76952644838, 9476.178519886264, 42672.68067152453, 10418.232544336744, 36050.20384834362, 81125.57566475523, 57381.44115242017, 4376.905384596714, 36349.45225144578, 81374.47952019823, 78015.56535158707, 285671.7070773491, 10541.381774287947, 98837.44163797451, 21533.305001046785, 46015.87798124207, 4216.203383963832, 13627.634078573712, 69008.36516764415, 45538.45001294864, 13054.679957803615, 52759.11684596194, 4122.23645873116, 108269.00597270978, 121685.01834134413, 36001.339295592436, 46424.30663427366, 41622.22650977624, 106434.38268838478, 100200.9420215453, 97297.31450789822, 87927.49986561788, 13974.475993197688, 77173.61692951275, 72147.69016116513, 54815.55906447423, 80865.58268915517, 65649.75910548521, 13804.453621905574, 87060.85711004985, 3487.115616407522, -964.5500796471752, 44430.480824630984, 13756.488477882274, 92831.7981203462, 112577.73822614206, 114351.17107954276, 13003.822038438448, 89031.69926613224, 10705.835639070996, 4015.919364135989, 68448.53779971255, 88217.45430633081, 10458.053638484605, 3124.5475319291436, 55351.52225185586, 32688.60437550796, 69584.90145548833, 116774.97836187137, 70791.02900191797, 53603.98925763024, 103381.66820466174, 20367.142378140517, 22650.96150263799, 96347.23446701122, 22894.91756078256, 88209.80169723583, -148528.3016430805, 17790.915635448226, 199200.13199743285, 15035.86654096497, 153712.07889396354, 23429.65222979737, 14629.758048776814, 105982.23745582653, 44436.91910431934, 19313.0713063891, 46279.23954897029, 69345.52846866501, 52759.11684596194, 57884.24879653407, 222770.38528227463, 34595.25578148318, 1414.9229861761414, 3924.2035918499314, 84759.38287298036, 101978.09849723829, 87593.96847127033, 52432.08426271034, 77975.95345244957, 13484.863542404302, 89237.64016434205, 23831.0482628162, 120031.54731155587, 4671.663491379746, 9273.346513387092, 26757.02658494962, 42939.4319287057, 88344.28752785576, 101593.94025736702, 25779.09180941833, 59280.30081589175, 37691.387310620674, 61098.11577948583, 94962.00136290146, 57167.28962890459, 13060.23852787567, 29327.561131168433, 58201.42444534255, 80095.19310801876, 78128.36626319242, -78431.17366987474, 26449.001216542252, 71500.2169970016, 51105.619449433216, 106056.6965835507, -21661.47851731653, 9668.333217364081, 49841.749071490296, 83150.14042763067, 51847.95476098014, 109169.35783816529, 28588.233755599984, 149356.6154229234, 59449.58190902723, 28925.62395026935, 196635.61833994492, 53943.81533908499, 59947.30069572879, 105136.09432966662, 81733.59805686427, 59280.30081589175, 37934.45818723393, 85003.03171415282, 117844.60763989044, 104774.58991506351, 15727.25127951456, 89936.24165977193, 15439.458952959903, 38473.187235180565, 35111.16859678579, 46520.35219099773, 1769.8537631447398, 22946.75778349889, 14859.2802022065, -147096.07760396012, 25349.37277302546, 85164.24608711553, 114359.93206514073, 93642.40880354894, 84083.02318952633, 95447.33492521597, 52684.487960603365, 42050.79115922404, 94171.45090658618, 53682.44921911908, 15546.96326391054, 4027.6371173973166, 92326.09163559628, 11413.710531290897, 135657.45455856278, 58738.30158720566, 9523.226655405291, 2946.417941835054, 14195.64759437395, 71931.37615844262, 68546.98793597175, 62796.811645385154, 42199.11294850362, 36600.52779875351, 33662.71351405633, 95038.04062555385, 44402.49446703149, 85146.46278941286, 36902.904061686524, 129804.8853822316, 45398.096938055285, 63071.220603835114, 30534.545578431615, 2510.6804133023106, 74720.24049813049, 5396.101848062404, 58791.40514330221, 90950.48803574992, 53375.22317437483, 68751.90882458938, 64359.991660502084, 8411.023459326752, 24592.211632024773, 44871.09113391889, 76317.64188293768, 39098.50650354875, 52987.28920571161, 469141.48776044964, 87641.25882157338, 23430.03016012562, 38839.1523417945, 60040.19058107985, 94824.85305150998, 2953.063054722079, 83375.29374469472, 107287.14014519406, 127064.45437495066, 16564.99833418084, 35111.16859678579, 280311.71732727654, 26245.91751008881, 86243.45691239489, 62736.42077405406, 67192.98861886216, 15852.537541207203, 69329.58399976445, 2542.325675454267, 64977.98815238131, 98504.3636205907, 80315.0114473964, 120789.09198203338, 65606.42430597199, 80985.39425676716, 37900.08904966367, 36091.517594468125, 2312.0015434588277, 85236.0287122692, 35600.70469432724, 31011.46541645778, 13444.71958692027, 87455.45023734523, 94724.65594224287, 83626.43896183027, 57960.04079779638, 113930.61180585278, 44488.52271158648, 157125.78661025717, 83574.34022439671, 50522.83773021055, 82948.59967429591, 26416.91165817929, 83315.93854623688, -35840.038031745426, 84358.35414857818, 98097.6787500198, 57537.6281099881, 91552.02945369137, 81001.60837937547, 60884.7273857261, 99811.79953401936, 53953.936865506505, 19652.477941569217, 126827.25228204978, 79679.48925268305, 12085.66786992205, 138207.6731380637, 156048.2612984295, 66624.6022573377, 30968.343707930573, 68452.82378653837, 93112.36816514684, 69786.89721741927, 56510.840271380075, 70029.4891521859, 107051.73854189766, 10250.191423636206, 15968.978905137905, 89419.00739629222, 105462.74616305185, 33720.45498517556, 15832.216933112868, 27213.23178650094, 91057.95477047218, 64631.61101998044, 2073.090187724956, 54767.55319547308, 53455.874674748906, 106933.92625368787, 59663.88223318411, 354986.8220096399, 119611.17680047108, 5714.511515509614, 70545.23954018606, 65873.73162796749, 50327.807064023145, 84143.01098259939, 71692.83624313427, 57950.178849455246, 35228.1284833516, 61726.14092744542, 71329.68584298743, 101052.72419659448, 678328.3616554554, 3658.731202911862, -77806.61825348977, 27417.11176982177, 67956.15289055956, 53976.594816562065, 87596.4240160252, 67547.39728714181, 78631.07582024885, 58085.49737292183, 127785.99786553932, 52633.185282435545, 16618.05607033921, 63573.565136265286, 111652.28918224228, 26041.71069930149, 92326.30568098677, 93112.36816514684, 60926.305616256126, 84947.93687756015, 86303.91460758103, 92390.217983153, 31666.65280994428, 93973.09392910851, 48466.70607509864, 96966.31382734729, 68847.76084789289, 70770.53492103172, 4947.569205817112, 111005.95028720451, 72283.70674974872, 4150.30432700766, 70097.21151499105, 83683.67809596313, 1324.6615513081633, 80310.98160443855, 88709.63098202301, 15279.081610691079, 67294.68664180888, 78474.06826416058, 93811.38625302566, 39419.724186089166, 61186.95511580659, 107563.21531119598, -415708.8707811844, 52838.35023226989, -52769.137360512934, 97134.02856206549, 20659.562504496702, 47110.79748890204, 80878.38737679673, 16986.24180148197, 31739.69085713876, 45747.53256915165, 42933.71466178847, 20573.129214804896, 38458.0395327921, 75437.2847808118, 11002.389105763563, 107051.73854189766, 41970.594394233354, 29142.19959485186, 44464.910768803486, 58955.36167101217, 3835.207265924939, 81674.67767309798, 65185.071838330754, 868396.7508680875, 66920.66453742636, 120777.85228278888, 31995.66200708998, 23823.125151943692, 254105.87451153202, 33928.4600526358, 60360.24901601327, 101287.2478395517, 12851.87600426031, 155430.91812059988, 108824.12173284245, 13475.801937248834, 23216.617136750647, 89936.24165977193, 27613.91664361609, 46337.71932898117, 69452.4986736591, 28068.47286028815, 80314.96920445217, 2296.473482560643, 16779.100579586157, 1279.6159332956158, 46690.97324514044, 77211.67802702966, 130193.51252235127, 41960.79345610393, 115500.18332145763, 7835.1998610611045, 13235.628004323968, 38898.44514593137, 36945.69501569522, 109288.7143298651, 89534.6561197902, 54939.08932217611, 37429.62515359772, 60344.566209715136, 20400.6226112063, 21107.06643470777, 26170.626506876477, 97504.73337788535, 89333.12736351443, 14543.984352629908, 106225.46346132112, 95784.88737912131, 62464.25899433745, 54482.183260526785, 34356.37169173015, 1021.8467088009202, 60001.715894144305, 73180.81800512625, 69207.3998497541, 81249.31942908121, 69682.72778305066, 53943.34336807979, 543709.5835006625, 87619.56105869664, 75823.5779241438, 107740.6178028698, 3798.606232878097, 72524.15902217878, 99526.95923795951, 18539.889405723938, 7801.161345776447, 5389.210129242667, 6579.966978159078, 31529.119417202004, 35091.86821746481, 125293.04312999202, 54705.782054763564, 91681.2575307752, 61134.499803718456, 81928.80820198012, 8050.737814005741, 60193.042024907, 75905.52567287935, 26099.100738924273, 23596.639586489924, 65135.65455132378, 13101.221616383918, 95690.14929498387, 54757.285973739155, 115077.50363586498, -49276.0677841452, 42968.270703312286, 67065.9506693746, 60406.29314988507, 9567.19119411362, 10461.051850002536, 63379.03364175213, 22535.017283287176, 10294.086675729879, 130987.6062571688, 75177.57220960932, 93413.54121453715, 104777.66189898206, 104067.08777716411, 8241.784498270878, 85259.40895609213, 136331.5022854249, 82477.48541107429, 64183.245327305325, 107605.80708342446, 771.6415733064496, 66244.8583413924, 44456.64725369615, 20808.026304062732, 41860.51880320562, 68484.50257791234, 23485.67413262678, 100877.84741109265, 144241.47562914743, 96026.56262237979, 90301.97558107627, 31280.109172638782, 6608.391270634063, 7696.17880382789, 69452.15758329285, -171707.0934886185, 104807.75528864218, 2533.2258601452195, 81794.88563744379, 98849.41201315475, 17992.4419233988, 120333.02371832384, 28721.312039595374, 110317.78497117413, 75532.49972638143, 22517.886831071504, 36985.18928806139, 77716.52011271966, 53905.517476287016, 628875.5149939957, 106319.65143392635, 106744.93734309477, 71239.3377051617, 36872.34227406634, 18623.15891493512, 35528.911749717125, 42664.38923678947, 6809.933029528984, 60360.24901601327, 78019.5813537595, 99426.59126972807, 9418.214695465096, 130376.83413150189, 7320.594784718283, 65191.880477901825, 111879.46751524163, 101337.42102440847, 13504.55720151616, 55202.41257288707, 11864.527644422182, 2839.8681531812035, 82726.09871069742, 9194.117423396834, 95205.73335735155, 15560.272935327419, 44547.77019546581, 14400.68703980399, 72180.36389445914, 77549.03168727113, 19382.089490484723, 5587.687621545323, 117932.35758991195, 61726.14092744542, 28950.63104696227, 4298.696761902698, 70037.95393570913, 65861.64771258486, 27993.89960190309, 23518.38581774784, 3820.174683463105]\n"
          ],
          "name": "stdout"
        }
      ]
    },
    {
      "cell_type": "code",
      "metadata": {
        "id": "02ik08xdU3MR",
        "colab": {
          "base_uri": "https://localhost:8080/",
          "height": 221
        },
        "outputId": "e3c3c6d1-b7c9-43f9-ef50-d6f5799b0bf1"
      },
      "source": [
        "perm = PermutationImportance(svr, random_state=1).fit(Xtest, ytest)\n",
        "eli5.show_weights(perm, feature_names = Xtest.columns.tolist())"
      ],
      "execution_count": null,
      "outputs": [
        {
          "output_type": "execute_result",
          "data": {
            "text/html": [
              "\n",
              "    <style>\n",
              "    table.eli5-weights tr:hover {\n",
              "        filter: brightness(85%);\n",
              "    }\n",
              "</style>\n",
              "\n",
              "\n",
              "\n",
              "    \n",
              "\n",
              "    \n",
              "\n",
              "    \n",
              "\n",
              "    \n",
              "\n",
              "    \n",
              "\n",
              "    \n",
              "\n",
              "\n",
              "    \n",
              "\n",
              "    \n",
              "\n",
              "    \n",
              "\n",
              "    \n",
              "\n",
              "    \n",
              "\n",
              "    \n",
              "\n",
              "\n",
              "    \n",
              "\n",
              "    \n",
              "\n",
              "    \n",
              "\n",
              "    \n",
              "\n",
              "    \n",
              "        <table class=\"eli5-weights eli5-feature-importances\" style=\"border-collapse: collapse; border: none; margin-top: 0em; table-layout: auto;\">\n",
              "    <thead>\n",
              "    <tr style=\"border: none;\">\n",
              "        <th style=\"padding: 0 1em 0 0.5em; text-align: right; border: none;\">Weight</th>\n",
              "        <th style=\"padding: 0 0.5em 0 0.5em; text-align: left; border: none;\">Feature</th>\n",
              "    </tr>\n",
              "    </thead>\n",
              "    <tbody>\n",
              "    \n",
              "        <tr style=\"background-color: hsl(120, 100.00%, 80.00%); border: none;\">\n",
              "            <td style=\"padding: 0 1em 0 0.5em; text-align: right; border: none;\">\n",
              "                0.3309\n",
              "                \n",
              "                    &plusmn; 0.0822\n",
              "                \n",
              "            </td>\n",
              "            <td style=\"padding: 0 0.5em 0 0.5em; text-align: left; border: none;\">\n",
              "                income_earned\n",
              "            </td>\n",
              "        </tr>\n",
              "    \n",
              "        <tr style=\"background-color: hsl(120, 100.00%, 80.87%); border: none;\">\n",
              "            <td style=\"padding: 0 1em 0 0.5em; text-align: right; border: none;\">\n",
              "                0.3104\n",
              "                \n",
              "                    &plusmn; 0.1759\n",
              "                \n",
              "            </td>\n",
              "            <td style=\"padding: 0 0.5em 0 0.5em; text-align: left; border: none;\">\n",
              "                liability\n",
              "            </td>\n",
              "        </tr>\n",
              "    \n",
              "        <tr style=\"background-color: hsl(120, 100.00%, 83.45%); border: none;\">\n",
              "            <td style=\"padding: 0 1em 0 0.5em; text-align: right; border: none;\">\n",
              "                0.2525\n",
              "                \n",
              "                    &plusmn; 0.0935\n",
              "                \n",
              "            </td>\n",
              "            <td style=\"padding: 0 0.5em 0 0.5em; text-align: left; border: none;\">\n",
              "                democrat\n",
              "            </td>\n",
              "        </tr>\n",
              "    \n",
              "        <tr style=\"background-color: hsl(120, 100.00%, 84.78%); border: none;\">\n",
              "            <td style=\"padding: 0 1em 0 0.5em; text-align: right; border: none;\">\n",
              "                0.2239\n",
              "                \n",
              "                    &plusmn; 0.0299\n",
              "                \n",
              "            </td>\n",
              "            <td style=\"padding: 0 0.5em 0 0.5em; text-align: left; border: none;\">\n",
              "                incumbent\n",
              "            </td>\n",
              "        </tr>\n",
              "    \n",
              "        <tr style=\"background-color: hsl(120, 100.00%, 87.48%); border: none;\">\n",
              "            <td style=\"padding: 0 1em 0 0.5em; text-align: right; border: none;\">\n",
              "                0.1695\n",
              "                \n",
              "                    &plusmn; 0.1182\n",
              "                \n",
              "            </td>\n",
              "            <td style=\"padding: 0 0.5em 0 0.5em; text-align: left; border: none;\">\n",
              "                cycle_2016\n",
              "            </td>\n",
              "        </tr>\n",
              "    \n",
              "        <tr style=\"background-color: hsl(120, 100.00%, 94.55%); border: none;\">\n",
              "            <td style=\"padding: 0 1em 0 0.5em; text-align: right; border: none;\">\n",
              "                0.0517\n",
              "                \n",
              "                    &plusmn; 0.1156\n",
              "                \n",
              "            </td>\n",
              "            <td style=\"padding: 0 0.5em 0 0.5em; text-align: left; border: none;\">\n",
              "                against_incum\n",
              "            </td>\n",
              "        </tr>\n",
              "    \n",
              "        <tr style=\"background-color: hsl(120, 100.00%, 94.97%); border: none;\">\n",
              "            <td style=\"padding: 0 1em 0 0.5em; text-align: right; border: none;\">\n",
              "                0.0461\n",
              "                \n",
              "                    &plusmn; 0.1113\n",
              "                \n",
              "            </td>\n",
              "            <td style=\"padding: 0 0.5em 0 0.5em; text-align: left; border: none;\">\n",
              "                wealth\n",
              "            </td>\n",
              "        </tr>\n",
              "    \n",
              "        <tr style=\"background-color: hsl(120, 100.00%, 98.23%); border: none;\">\n",
              "            <td style=\"padding: 0 1em 0 0.5em; text-align: right; border: none;\">\n",
              "                0.0104\n",
              "                \n",
              "                    &plusmn; 0.1100\n",
              "                \n",
              "            </td>\n",
              "            <td style=\"padding: 0 0.5em 0 0.5em; text-align: left; border: none;\">\n",
              "                cycle_2014\n",
              "            </td>\n",
              "        </tr>\n",
              "    \n",
              "        <tr style=\"background-color: hsl(0, 100.00%, 96.54%); border: none;\">\n",
              "            <td style=\"padding: 0 1em 0 0.5em; text-align: right; border: none;\">\n",
              "                -0.0270\n",
              "                \n",
              "                    &plusmn; 0.0971\n",
              "                \n",
              "            </td>\n",
              "            <td style=\"padding: 0 0.5em 0 0.5em; text-align: left; border: none;\">\n",
              "                unearned_income\n",
              "            </td>\n",
              "        </tr>\n",
              "    \n",
              "        <tr style=\"background-color: hsl(0, 100.00%, 95.25%); border: none;\">\n",
              "            <td style=\"padding: 0 1em 0 0.5em; text-align: right; border: none;\">\n",
              "                -0.0424\n",
              "                \n",
              "                    &plusmn; 0.0997\n",
              "                \n",
              "            </td>\n",
              "            <td style=\"padding: 0 0.5em 0 0.5em; text-align: left; border: none;\">\n",
              "                income\n",
              "            </td>\n",
              "        </tr>\n",
              "    \n",
              "        <tr style=\"background-color: hsl(0, 100.00%, 93.09%); border: none;\">\n",
              "            <td style=\"padding: 0 1em 0 0.5em; text-align: right; border: none;\">\n",
              "                -0.0725\n",
              "                \n",
              "                    &plusmn; 0.0678\n",
              "                \n",
              "            </td>\n",
              "            <td style=\"padding: 0 0.5em 0 0.5em; text-align: left; border: none;\">\n",
              "                asset\n",
              "            </td>\n",
              "        </tr>\n",
              "    \n",
              "    \n",
              "    </tbody>\n",
              "</table>\n",
              "    \n",
              "\n",
              "    \n",
              "\n",
              "\n",
              "    \n",
              "\n",
              "    \n",
              "\n",
              "    \n",
              "\n",
              "    \n",
              "\n",
              "    \n",
              "\n",
              "    \n",
              "\n",
              "\n",
              "\n"
            ],
            "text/plain": [
              "<IPython.core.display.HTML object>"
            ]
          },
          "metadata": {
            "tags": []
          },
          "execution_count": 77
        }
      ]
    },
    {
      "cell_type": "code",
      "metadata": {
        "colab": {
          "base_uri": "https://localhost:8080/"
        },
        "id": "b6H0O6ds6IJ-",
        "outputId": "486c5e63-7758-4a9c-ef46-a83d47f6cb6b"
      },
      "source": [
        "regr = make_pipeline(StandardScaler(), svm.SVR(C=10e7, epsilon=0.2, gamma='scale'))\n",
        "svr = regr.fit(Xtrain[['wealth', 'income']], ytrain)\n",
        "ypred = regr.predict(Xtest[['wealth', 'income']])\n",
        "mape(ytest, ypred)"
      ],
      "execution_count": null,
      "outputs": [
        {
          "output_type": "execute_result",
          "data": {
            "text/plain": [
              "36.944615920143775"
            ]
          },
          "metadata": {
            "tags": []
          },
          "execution_count": 78
        }
      ]
    },
    {
      "cell_type": "code",
      "metadata": {
        "colab": {
          "base_uri": "https://localhost:8080/",
          "height": 68
        },
        "id": "lGDvnFcK6OWB",
        "outputId": "dab04e87-23cd-42ad-d2da-3dd1e629958f"
      },
      "source": [
        "perm = PermutationImportance(svr, random_state=1).fit(Xtest[['wealth', 'income']], ytest)\n",
        "eli5.show_weights(perm, feature_names = Xtest[['wealth', 'income']].columns.tolist())"
      ],
      "execution_count": null,
      "outputs": [
        {
          "output_type": "execute_result",
          "data": {
            "text/html": [
              "\n",
              "    <style>\n",
              "    table.eli5-weights tr:hover {\n",
              "        filter: brightness(85%);\n",
              "    }\n",
              "</style>\n",
              "\n",
              "\n",
              "\n",
              "    \n",
              "\n",
              "    \n",
              "\n",
              "    \n",
              "\n",
              "    \n",
              "\n",
              "    \n",
              "\n",
              "    \n",
              "\n",
              "\n",
              "    \n",
              "\n",
              "    \n",
              "\n",
              "    \n",
              "\n",
              "    \n",
              "\n",
              "    \n",
              "\n",
              "    \n",
              "\n",
              "\n",
              "    \n",
              "\n",
              "    \n",
              "\n",
              "    \n",
              "\n",
              "    \n",
              "\n",
              "    \n",
              "        <table class=\"eli5-weights eli5-feature-importances\" style=\"border-collapse: collapse; border: none; margin-top: 0em; table-layout: auto;\">\n",
              "    <thead>\n",
              "    <tr style=\"border: none;\">\n",
              "        <th style=\"padding: 0 1em 0 0.5em; text-align: right; border: none;\">Weight</th>\n",
              "        <th style=\"padding: 0 0.5em 0 0.5em; text-align: left; border: none;\">Feature</th>\n",
              "    </tr>\n",
              "    </thead>\n",
              "    <tbody>\n",
              "    \n",
              "        <tr style=\"background-color: hsl(0, 100.00%, 89.64%); border: none;\">\n",
              "            <td style=\"padding: 0 1em 0 0.5em; text-align: right; border: none;\">\n",
              "                -0.0267\n",
              "                \n",
              "                    &plusmn; 0.0341\n",
              "                \n",
              "            </td>\n",
              "            <td style=\"padding: 0 0.5em 0 0.5em; text-align: left; border: none;\">\n",
              "                wealth\n",
              "            </td>\n",
              "        </tr>\n",
              "    \n",
              "        <tr style=\"background-color: hsl(0, 100.00%, 80.00%); border: none;\">\n",
              "            <td style=\"padding: 0 1em 0 0.5em; text-align: right; border: none;\">\n",
              "                -0.0684\n",
              "                \n",
              "                    &plusmn; 0.0115\n",
              "                \n",
              "            </td>\n",
              "            <td style=\"padding: 0 0.5em 0 0.5em; text-align: left; border: none;\">\n",
              "                income\n",
              "            </td>\n",
              "        </tr>\n",
              "    \n",
              "    \n",
              "    </tbody>\n",
              "</table>\n",
              "    \n",
              "\n",
              "    \n",
              "\n",
              "\n",
              "    \n",
              "\n",
              "    \n",
              "\n",
              "    \n",
              "\n",
              "    \n",
              "\n",
              "    \n",
              "\n",
              "    \n",
              "\n",
              "\n",
              "\n"
            ],
            "text/plain": [
              "<IPython.core.display.HTML object>"
            ]
          },
          "metadata": {
            "tags": []
          },
          "execution_count": 79
        }
      ]
    },
    {
      "cell_type": "code",
      "metadata": {
        "colab": {
          "base_uri": "https://localhost:8080/"
        },
        "id": "WRutGnw6XmID",
        "outputId": "3136018a-a1f7-4b42-902b-4def092fb4a0"
      },
      "source": [
        "from sklearn.linear_model import ElasticNet\n",
        "\n",
        "regr = ElasticNet(l1_ratio=1, random_state=0)\n",
        "enet = regr.fit(Xtrain, ytrain)\n",
        "ypred = regr.predict(Xtest)\n",
        "mape(ytest, ypred)"
      ],
      "execution_count": null,
      "outputs": [
        {
          "output_type": "stream",
          "text": [
            "/usr/local/lib/python3.6/dist-packages/sklearn/linear_model/_coordinate_descent.py:476: ConvergenceWarning: Objective did not converge. You might want to increase the number of iterations. Duality gap: 67982263444801.97, tolerance: 16167082133.34628\n",
            "  positive)\n"
          ],
          "name": "stderr"
        },
        {
          "output_type": "execute_result",
          "data": {
            "text/plain": [
              "64.08379574371574"
            ]
          },
          "metadata": {
            "tags": []
          },
          "execution_count": 118
        }
      ]
    },
    {
      "cell_type": "markdown",
      "metadata": {
        "id": "dP9kZgiTPN_a"
      },
      "source": [
        "# Predict vote share"
      ]
    },
    {
      "cell_type": "code",
      "metadata": {
        "id": "-uSi-4M76pCw"
      },
      "source": [
        "df_vs = pd.read_csv('data/merged_data_3_Nov6.csv', index_col = 0)"
      ],
      "execution_count": null,
      "outputs": []
    },
    {
      "cell_type": "code",
      "metadata": {
        "id": "b9tcyeJmRPtN",
        "colab": {
          "base_uri": "https://localhost:8080/",
          "height": 372
        },
        "outputId": "97973417-c969-4b7c-95ec-337f7a84c867"
      },
      "source": [
        "df_vs.head()"
      ],
      "execution_count": null,
      "outputs": [
        {
          "output_type": "execute_result",
          "data": {
            "text/html": [
              "<div>\n",
              "<style scoped>\n",
              "    .dataframe tbody tr th:only-of-type {\n",
              "        vertical-align: middle;\n",
              "    }\n",
              "\n",
              "    .dataframe tbody tr th {\n",
              "        vertical-align: top;\n",
              "    }\n",
              "\n",
              "    .dataframe thead th {\n",
              "        text-align: right;\n",
              "    }\n",
              "</style>\n",
              "<table border=\"1\" class=\"dataframe\">\n",
              "  <thead>\n",
              "    <tr style=\"text-align: right;\">\n",
              "      <th></th>\n",
              "      <th>pfd_id</th>\n",
              "      <th>cycle</th>\n",
              "      <th>rid</th>\n",
              "      <th>file</th>\n",
              "      <th>min_liability</th>\n",
              "      <th>max_liability</th>\n",
              "      <th>min_asset</th>\n",
              "      <th>max_asset</th>\n",
              "      <th>min_unearned_income</th>\n",
              "      <th>max_unearned_income</th>\n",
              "      <th>income_earned</th>\n",
              "      <th>min_wealth</th>\n",
              "      <th>max_wealth</th>\n",
              "      <th>wealth</th>\n",
              "      <th>income</th>\n",
              "      <th>election</th>\n",
              "      <th>fecyear</th>\n",
              "      <th>Cand.ID</th>\n",
              "      <th>FEC.ID</th>\n",
              "      <th>NID</th>\n",
              "      <th>bonica.rid</th>\n",
              "      <th>bonica.cid</th>\n",
              "      <th>name</th>\n",
              "      <th>lname</th>\n",
              "      <th>ffname</th>\n",
              "      <th>fname</th>\n",
              "      <th>mname</th>\n",
              "      <th>nname</th>\n",
              "      <th>title</th>\n",
              "      <th>suffix</th>\n",
              "      <th>party</th>\n",
              "      <th>state</th>\n",
              "      <th>seat</th>\n",
              "      <th>district</th>\n",
              "      <th>Incum.Chall</th>\n",
              "      <th>recipient.cfscore</th>\n",
              "      <th>contributor.cfscore</th>\n",
              "      <th>recipient.cfscore.dyn</th>\n",
              "      <th>dwnom1</th>\n",
              "      <th>dwnom2</th>\n",
              "      <th>...</th>\n",
              "      <th>comm.cost.for</th>\n",
              "      <th>comm.cost.against</th>\n",
              "      <th>party.coord.exp</th>\n",
              "      <th>party.ind.exp.against</th>\n",
              "      <th>total.receipts</th>\n",
              "      <th>total.indiv.contrib</th>\n",
              "      <th>total.pac.contribs</th>\n",
              "      <th>ran.primary</th>\n",
              "      <th>ran.general</th>\n",
              "      <th>p.elec.stat</th>\n",
              "      <th>s.elec.stat</th>\n",
              "      <th>r.elec.stat</th>\n",
              "      <th>gen.elec.stat</th>\n",
              "      <th>gen.elect.pct</th>\n",
              "      <th>winner</th>\n",
              "      <th>district.partisanship</th>\n",
              "      <th>district.pres.vs</th>\n",
              "      <th>candStatus</th>\n",
              "      <th>recipient.type</th>\n",
              "      <th>igcat</th>\n",
              "      <th>comtype</th>\n",
              "      <th>nimsp.party</th>\n",
              "      <th>nimsp.candidate.ICO.code</th>\n",
              "      <th>nimsp.district</th>\n",
              "      <th>nimsp.office</th>\n",
              "      <th>nimsp.candidate.status</th>\n",
              "      <th>before.switch.ICPSR</th>\n",
              "      <th>after.switch.ICPSR</th>\n",
              "      <th>party.orig</th>\n",
              "      <th>total_primary</th>\n",
              "      <th>campaign_start</th>\n",
              "      <th>campaign_ninety</th>\n",
              "      <th>total_ninety</th>\n",
              "      <th>votes_primary</th>\n",
              "      <th>pct_primary</th>\n",
              "      <th>votes_runoff</th>\n",
              "      <th>pct_runoff</th>\n",
              "      <th>votes_general</th>\n",
              "      <th>pct_general</th>\n",
              "      <th>won_general</th>\n",
              "    </tr>\n",
              "  </thead>\n",
              "  <tbody>\n",
              "    <tr>\n",
              "      <th>0</th>\n",
              "      <td>10000005.0</td>\n",
              "      <td>2014.0</td>\n",
              "      <td>cand143294</td>\n",
              "      <td>10000005</td>\n",
              "      <td>0.0</td>\n",
              "      <td>0.0</td>\n",
              "      <td>19008.0</td>\n",
              "      <td>113000.0</td>\n",
              "      <td>3.0</td>\n",
              "      <td>600.0</td>\n",
              "      <td>7254.40</td>\n",
              "      <td>19008.0</td>\n",
              "      <td>113000.0</td>\n",
              "      <td>66004.0</td>\n",
              "      <td>7555.90</td>\n",
              "      <td>fd2014</td>\n",
              "      <td>2014.0</td>\n",
              "      <td>H4IL16020</td>\n",
              "      <td>C00553826</td>\n",
              "      <td>NH4IL16020</td>\n",
              "      <td>cand143294</td>\n",
              "      <td>NaN</td>\n",
              "      <td>HALE JR, DAVID JERRY</td>\n",
              "      <td>hale</td>\n",
              "      <td>david jerry</td>\n",
              "      <td>david</td>\n",
              "      <td>jerry</td>\n",
              "      <td>NaN</td>\n",
              "      <td>NaN</td>\n",
              "      <td>jr</td>\n",
              "      <td>200.0</td>\n",
              "      <td>IL</td>\n",
              "      <td>federal:house</td>\n",
              "      <td>IL16</td>\n",
              "      <td>C</td>\n",
              "      <td>1.563940</td>\n",
              "      <td>NaN</td>\n",
              "      <td>1.530</td>\n",
              "      <td>NaN</td>\n",
              "      <td>NaN</td>\n",
              "      <td>...</td>\n",
              "      <td>0.0</td>\n",
              "      <td>0.0</td>\n",
              "      <td>0.0</td>\n",
              "      <td>0.0</td>\n",
              "      <td>10082.61</td>\n",
              "      <td>5898.25</td>\n",
              "      <td>0.00</td>\n",
              "      <td>1.0</td>\n",
              "      <td>1.0</td>\n",
              "      <td>L</td>\n",
              "      <td>NaN</td>\n",
              "      <td>NaN</td>\n",
              "      <td>NaN</td>\n",
              "      <td>NaN</td>\n",
              "      <td>NaN</td>\n",
              "      <td>0.189148</td>\n",
              "      <td>0.510</td>\n",
              "      <td>C</td>\n",
              "      <td>cand</td>\n",
              "      <td>NaN</td>\n",
              "      <td>H</td>\n",
              "      <td>NaN</td>\n",
              "      <td>NaN</td>\n",
              "      <td>NaN</td>\n",
              "      <td>NaN</td>\n",
              "      <td>NaN</td>\n",
              "      <td>NaN</td>\n",
              "      <td>NaN</td>\n",
              "      <td>200.0</td>\n",
              "      <td>6193.31</td>\n",
              "      <td>2013-09-22</td>\n",
              "      <td>2013-12-21</td>\n",
              "      <td>2868.86</td>\n",
              "      <td>15558</td>\n",
              "      <td>0.215631</td>\n",
              "      <td>NaN</td>\n",
              "      <td>NaN</td>\n",
              "      <td>NaN</td>\n",
              "      <td>NaN</td>\n",
              "      <td>NaN</td>\n",
              "    </tr>\n",
              "    <tr>\n",
              "      <th>1</th>\n",
              "      <td>10000007.0</td>\n",
              "      <td>2014.0</td>\n",
              "      <td>cand133871</td>\n",
              "      <td>10000007</td>\n",
              "      <td>0.0</td>\n",
              "      <td>0.0</td>\n",
              "      <td>399059.0</td>\n",
              "      <td>1639000.0</td>\n",
              "      <td>12944.0</td>\n",
              "      <td>45222.0</td>\n",
              "      <td>42647.10</td>\n",
              "      <td>399059.0</td>\n",
              "      <td>1639000.0</td>\n",
              "      <td>1019029.5</td>\n",
              "      <td>71730.10</td>\n",
              "      <td>fd2014</td>\n",
              "      <td>2014.0</td>\n",
              "      <td>H4PA08108</td>\n",
              "      <td>C00543611</td>\n",
              "      <td>N00035339</td>\n",
              "      <td>cand133871</td>\n",
              "      <td>3.138665e+10</td>\n",
              "      <td>STROUSE, KEVIN</td>\n",
              "      <td>strouse</td>\n",
              "      <td>kevin</td>\n",
              "      <td>kevin</td>\n",
              "      <td>NaN</td>\n",
              "      <td>NaN</td>\n",
              "      <td>NaN</td>\n",
              "      <td>NaN</td>\n",
              "      <td>100.0</td>\n",
              "      <td>PA</td>\n",
              "      <td>federal:house</td>\n",
              "      <td>PA08</td>\n",
              "      <td>C</td>\n",
              "      <td>-1.253776</td>\n",
              "      <td>-1.285508</td>\n",
              "      <td>-1.104</td>\n",
              "      <td>NaN</td>\n",
              "      <td>NaN</td>\n",
              "      <td>...</td>\n",
              "      <td>0.0</td>\n",
              "      <td>0.0</td>\n",
              "      <td>0.0</td>\n",
              "      <td>0.0</td>\n",
              "      <td>1346514.37</td>\n",
              "      <td>813372.65</td>\n",
              "      <td>190695.38</td>\n",
              "      <td>1.0</td>\n",
              "      <td>1.0</td>\n",
              "      <td>W</td>\n",
              "      <td>NaN</td>\n",
              "      <td>NaN</td>\n",
              "      <td>NaN</td>\n",
              "      <td>NaN</td>\n",
              "      <td>NaN</td>\n",
              "      <td>-0.077540</td>\n",
              "      <td>0.535</td>\n",
              "      <td>C</td>\n",
              "      <td>cand</td>\n",
              "      <td>NaN</td>\n",
              "      <td>H</td>\n",
              "      <td>NaN</td>\n",
              "      <td>NaN</td>\n",
              "      <td>NaN</td>\n",
              "      <td>NaN</td>\n",
              "      <td>NaN</td>\n",
              "      <td>NaN</td>\n",
              "      <td>NaN</td>\n",
              "      <td>100.0</td>\n",
              "      <td>680760.64</td>\n",
              "      <td>2013-04-01</td>\n",
              "      <td>2013-06-30</td>\n",
              "      <td>194700.00</td>\n",
              "      <td>18440</td>\n",
              "      <td>0.511327</td>\n",
              "      <td>NaN</td>\n",
              "      <td>NaN</td>\n",
              "      <td>84767</td>\n",
              "      <td>0.380979</td>\n",
              "      <td>NaN</td>\n",
              "    </tr>\n",
              "    <tr>\n",
              "      <th>2</th>\n",
              "      <td>10000009.0</td>\n",
              "      <td>2014.0</td>\n",
              "      <td>cand45199</td>\n",
              "      <td>10000009</td>\n",
              "      <td>0.0</td>\n",
              "      <td>0.0</td>\n",
              "      <td>201003.0</td>\n",
              "      <td>515000.0</td>\n",
              "      <td>5001.0</td>\n",
              "      <td>15000.0</td>\n",
              "      <td>149246.63</td>\n",
              "      <td>201003.0</td>\n",
              "      <td>515000.0</td>\n",
              "      <td>358001.5</td>\n",
              "      <td>159247.13</td>\n",
              "      <td>fd2014</td>\n",
              "      <td>2014.0</td>\n",
              "      <td>H2TX35029</td>\n",
              "      <td>C00504332</td>\n",
              "      <td>N00033667</td>\n",
              "      <td>cand45199</td>\n",
              "      <td>5.000027e+15</td>\n",
              "      <td>NARVAIZ, SUSAN</td>\n",
              "      <td>narvaiz</td>\n",
              "      <td>susan</td>\n",
              "      <td>susan</td>\n",
              "      <td>NaN</td>\n",
              "      <td>NaN</td>\n",
              "      <td>NaN</td>\n",
              "      <td>NaN</td>\n",
              "      <td>200.0</td>\n",
              "      <td>TX</td>\n",
              "      <td>federal:house</td>\n",
              "      <td>TX35</td>\n",
              "      <td>C</td>\n",
              "      <td>1.254210</td>\n",
              "      <td>1.117892</td>\n",
              "      <td>1.309</td>\n",
              "      <td>NaN</td>\n",
              "      <td>NaN</td>\n",
              "      <td>...</td>\n",
              "      <td>0.0</td>\n",
              "      <td>0.0</td>\n",
              "      <td>0.0</td>\n",
              "      <td>0.0</td>\n",
              "      <td>242733.12</td>\n",
              "      <td>180770.34</td>\n",
              "      <td>11600.00</td>\n",
              "      <td>1.0</td>\n",
              "      <td>1.0</td>\n",
              "      <td>W</td>\n",
              "      <td>NaN</td>\n",
              "      <td>NaN</td>\n",
              "      <td>NaN</td>\n",
              "      <td>NaN</td>\n",
              "      <td>NaN</td>\n",
              "      <td>NaN</td>\n",
              "      <td>0.643</td>\n",
              "      <td>C</td>\n",
              "      <td>cand</td>\n",
              "      <td>NaN</td>\n",
              "      <td>H</td>\n",
              "      <td>NaN</td>\n",
              "      <td>NaN</td>\n",
              "      <td>NaN</td>\n",
              "      <td>NaN</td>\n",
              "      <td>NaN</td>\n",
              "      <td>NaN</td>\n",
              "      <td>NaN</td>\n",
              "      <td>200.0</td>\n",
              "      <td>20435.00</td>\n",
              "      <td>2013-10-31</td>\n",
              "      <td>2014-01-29</td>\n",
              "      <td>12235.00</td>\n",
              "      <td>9717</td>\n",
              "      <td>1.000000</td>\n",
              "      <td>NaN</td>\n",
              "      <td>NaN</td>\n",
              "      <td>32040</td>\n",
              "      <td>0.332970</td>\n",
              "      <td>NaN</td>\n",
              "    </tr>\n",
              "    <tr>\n",
              "      <th>3</th>\n",
              "      <td>10000012.0</td>\n",
              "      <td>2014.0</td>\n",
              "      <td>cand56702</td>\n",
              "      <td>10000012</td>\n",
              "      <td>10000.0</td>\n",
              "      <td>15000.0</td>\n",
              "      <td>15001.0</td>\n",
              "      <td>50000.0</td>\n",
              "      <td>0.0</td>\n",
              "      <td>0.0</td>\n",
              "      <td>0.00</td>\n",
              "      <td>1.0</td>\n",
              "      <td>40000.0</td>\n",
              "      <td>20000.5</td>\n",
              "      <td>0.00</td>\n",
              "      <td>fd2014</td>\n",
              "      <td>2014.0</td>\n",
              "      <td>H8TX20127</td>\n",
              "      <td>C00554139</td>\n",
              "      <td>NH8TX20127</td>\n",
              "      <td>cand56702</td>\n",
              "      <td>2.847950e+09</td>\n",
              "      <td>MONTOYA, MARCO</td>\n",
              "      <td>montoya</td>\n",
              "      <td>marco</td>\n",
              "      <td>marco</td>\n",
              "      <td>NaN</td>\n",
              "      <td>NaN</td>\n",
              "      <td>NaN</td>\n",
              "      <td>NaN</td>\n",
              "      <td>100.0</td>\n",
              "      <td>TX</td>\n",
              "      <td>federal:house</td>\n",
              "      <td>TX25</td>\n",
              "      <td>C</td>\n",
              "      <td>-1.449011</td>\n",
              "      <td>-1.239905</td>\n",
              "      <td>-1.275</td>\n",
              "      <td>NaN</td>\n",
              "      <td>NaN</td>\n",
              "      <td>...</td>\n",
              "      <td>0.0</td>\n",
              "      <td>0.0</td>\n",
              "      <td>0.0</td>\n",
              "      <td>0.0</td>\n",
              "      <td>32801.23</td>\n",
              "      <td>11272.00</td>\n",
              "      <td>2205.00</td>\n",
              "      <td>1.0</td>\n",
              "      <td>1.0</td>\n",
              "      <td>W</td>\n",
              "      <td>NaN</td>\n",
              "      <td>NaN</td>\n",
              "      <td>NaN</td>\n",
              "      <td>NaN</td>\n",
              "      <td>NaN</td>\n",
              "      <td>-0.498689</td>\n",
              "      <td>0.434</td>\n",
              "      <td>C</td>\n",
              "      <td>cand</td>\n",
              "      <td>NaN</td>\n",
              "      <td>H</td>\n",
              "      <td>NaN</td>\n",
              "      <td>NaN</td>\n",
              "      <td>NaN</td>\n",
              "      <td>NaN</td>\n",
              "      <td>NaN</td>\n",
              "      <td>NaN</td>\n",
              "      <td>NaN</td>\n",
              "      <td>100.0</td>\n",
              "      <td>2598.00</td>\n",
              "      <td>2014-01-19</td>\n",
              "      <td>2014-04-19</td>\n",
              "      <td>1598.00</td>\n",
              "      <td>11691</td>\n",
              "      <td>0.751639</td>\n",
              "      <td>NaN</td>\n",
              "      <td>NaN</td>\n",
              "      <td>64463</td>\n",
              "      <td>0.362390</td>\n",
              "      <td>NaN</td>\n",
              "    </tr>\n",
              "    <tr>\n",
              "      <th>4</th>\n",
              "      <td>10000013.0</td>\n",
              "      <td>2014.0</td>\n",
              "      <td>cand143523</td>\n",
              "      <td>10000013</td>\n",
              "      <td>250001.0</td>\n",
              "      <td>500000.0</td>\n",
              "      <td>252003.0</td>\n",
              "      <td>530000.0</td>\n",
              "      <td>1002.0</td>\n",
              "      <td>2700.0</td>\n",
              "      <td>70000.00</td>\n",
              "      <td>-247997.0</td>\n",
              "      <td>279999.0</td>\n",
              "      <td>16001.0</td>\n",
              "      <td>71851.00</td>\n",
              "      <td>fd2014</td>\n",
              "      <td>2014.0</td>\n",
              "      <td>H4PA03091</td>\n",
              "      <td>C00554451</td>\n",
              "      <td>NH4PA03091</td>\n",
              "      <td>cand143523</td>\n",
              "      <td>3.303514e+10</td>\n",
              "      <td>JOSWIAK, ROBERT HERBERT</td>\n",
              "      <td>joswiak</td>\n",
              "      <td>robert herbert</td>\n",
              "      <td>robert</td>\n",
              "      <td>herbert</td>\n",
              "      <td>NaN</td>\n",
              "      <td>NaN</td>\n",
              "      <td>NaN</td>\n",
              "      <td>100.0</td>\n",
              "      <td>PA</td>\n",
              "      <td>federal:house</td>\n",
              "      <td>PA03</td>\n",
              "      <td>C</td>\n",
              "      <td>-0.670342</td>\n",
              "      <td>-0.820433</td>\n",
              "      <td>-0.624</td>\n",
              "      <td>NaN</td>\n",
              "      <td>NaN</td>\n",
              "      <td>...</td>\n",
              "      <td>0.0</td>\n",
              "      <td>0.0</td>\n",
              "      <td>0.0</td>\n",
              "      <td>0.0</td>\n",
              "      <td>14348.00</td>\n",
              "      <td>6970.00</td>\n",
              "      <td>0.00</td>\n",
              "      <td>1.0</td>\n",
              "      <td>1.0</td>\n",
              "      <td>L</td>\n",
              "      <td>NaN</td>\n",
              "      <td>NaN</td>\n",
              "      <td>NaN</td>\n",
              "      <td>NaN</td>\n",
              "      <td>NaN</td>\n",
              "      <td>0.260487</td>\n",
              "      <td>0.469</td>\n",
              "      <td>C</td>\n",
              "      <td>cand</td>\n",
              "      <td>NaN</td>\n",
              "      <td>H</td>\n",
              "      <td>NaN</td>\n",
              "      <td>NaN</td>\n",
              "      <td>NaN</td>\n",
              "      <td>NaN</td>\n",
              "      <td>NaN</td>\n",
              "      <td>NaN</td>\n",
              "      <td>NaN</td>\n",
              "      <td>100.0</td>\n",
              "      <td>6970.00</td>\n",
              "      <td>2014-01-03</td>\n",
              "      <td>2014-04-03</td>\n",
              "      <td>6970.00</td>\n",
              "      <td>NaN</td>\n",
              "      <td>NaN</td>\n",
              "      <td>NaN</td>\n",
              "      <td>NaN</td>\n",
              "      <td>NaN</td>\n",
              "      <td>NaN</td>\n",
              "      <td>NaN</td>\n",
              "    </tr>\n",
              "  </tbody>\n",
              "</table>\n",
              "<p>5 rows × 97 columns</p>\n",
              "</div>"
            ],
            "text/plain": [
              "       pfd_id   cycle         rid  ...  votes_general  pct_general  won_general\n",
              "0  10000005.0  2014.0  cand143294  ...            NaN          NaN          NaN\n",
              "1  10000007.0  2014.0  cand133871  ...          84767     0.380979          NaN\n",
              "2  10000009.0  2014.0   cand45199  ...          32040     0.332970          NaN\n",
              "3  10000012.0  2014.0   cand56702  ...          64463     0.362390          NaN\n",
              "4  10000013.0  2014.0  cand143523  ...            NaN          NaN          NaN\n",
              "\n",
              "[5 rows x 97 columns]"
            ]
          },
          "metadata": {
            "tags": []
          },
          "execution_count": 125
        }
      ]
    },
    {
      "cell_type": "code",
      "metadata": {
        "id": "N1WZBIz4bpaE"
      },
      "source": [
        "# Drop known unmatched people\n",
        "df_vs = df_vs[df_vs['rid'] != 'missing']\n",
        "df_vs = df_vs[df_vs['rid'] != 'dupe']\n",
        "df_vs = df_vs[df_vs['pfd_id'] >= 10000000]\n",
        "\n",
        "df_vs['pct_primary'].isnull().sum()\n",
        "\n",
        "df_vs.dropna(subset=['pct_primary', 'total_ninety'], inplace=True)"
      ],
      "execution_count": null,
      "outputs": []
    },
    {
      "cell_type": "code",
      "metadata": {
        "id": "DJDhSPt_cO2W"
      },
      "source": [
        "# Create median variables:\n",
        "df_vs['liability'] = (df_vs['max_liability'] + df_vs['min_liability']) / 2\n",
        "df_vs['asset'] = (df_vs['max_asset'] + df_vs['min_asset']) / 2\n",
        "df_vs['unearned_income'] = (df_vs['max_unearned_income'] + df_vs['min_unearned_income']) / 2\n",
        "\n",
        "# Create some categorical variables\n",
        "df_vs['democrat'] = (df_vs['party'] == 100).astype(int)\n",
        "df_vs['incumbent'] = (df_vs['Incum.Chall'] == 'I').astype(int)\n",
        "df_vs['cycle_2014'] = (df_vs['cycle'] == 2014).astype(int)\n",
        "df_vs['cycle_2016'] = (df_vs['cycle'] == 2016).astype(int)\n",
        "\n",
        "has_incumbent = df_vs.groupby(['district','cycle','party'])['incumbent'].sum()\n",
        "df_vs['incum_in_primary'] = df_vs.apply(lambda r : False if type(r.district) != str else has_incumbent[(r.district,r.cycle,r.party)] > 0, axis=1).astype(int)\n",
        "df_vs['against_incum'] = ((df_vs['incum_in_primary'] == 1) & (df_vs['incumbent'] == 0)).astype(int)"
      ],
      "execution_count": null,
      "outputs": []
    },
    {
      "cell_type": "code",
      "metadata": {
        "id": "MFSNEofuPR2O"
      },
      "source": [
        "Xtrain, ytrain, Xtest, ytest = train_test_split_random_sample(df_vs, y_var='pct_primary', X_VARS=X_VARS_vote, test_proportion = 0.2)\n"
      ],
      "execution_count": null,
      "outputs": []
    },
    {
      "cell_type": "code",
      "metadata": {
        "id": "Wt8J7CJL5hME",
        "colab": {
          "base_uri": "https://localhost:8080/"
        },
        "outputId": "1f4d81d4-52e5-4865-d6fe-06fa91a13972"
      },
      "source": [
        "from sklearn import decomposition\n",
        "\n",
        "\n",
        "pca = decomposition.PCA(n_components=3)\n",
        "pca.fit(Xtrain[['wealth', 'income', 'asset']], ytrain)\n",
        "print(pca.components_)\n"
      ],
      "execution_count": null,
      "outputs": [
        {
          "output_type": "stream",
          "text": [
            "[[ 0.64944458  0.05665574  0.75829537]\n",
            " [-0.75747998  0.13564368  0.63861167]\n",
            " [ 0.06667696  0.98913645 -0.13100864]]\n"
          ],
          "name": "stdout"
        }
      ]
    },
    {
      "cell_type": "code",
      "metadata": {
        "id": "EbLHLPhN6U6_",
        "colab": {
          "base_uri": "https://localhost:8080/"
        },
        "outputId": "8e4d516c-0c9b-4f77-99a8-1df80f65eb85"
      },
      "source": [
        "print(pca.explained_variance_ratio_)"
      ],
      "execution_count": null,
      "outputs": [
        {
          "output_type": "stream",
          "text": [
            "[0.98139562 0.01726034 0.00134405]\n"
          ],
          "name": "stdout"
        }
      ]
    },
    {
      "cell_type": "code",
      "metadata": {
        "id": "pozd8dZIcog0",
        "colab": {
          "base_uri": "https://localhost:8080/",
          "height": 521
        },
        "outputId": "3f4fe517-70df-4a27-8b96-7bdbed7060bd"
      },
      "source": [
        "exog, endog = sm.add_constant(Xtrain), ytrain\n",
        "\n",
        "# Poisson regression\n",
        "mod = sm.GLM(endog, exog, family=sm.families.Poisson(link=sm.families.links.log()))\n",
        "res = mod.fit()\n",
        "display(res.summary())\n"
      ],
      "execution_count": null,
      "outputs": [
        {
          "output_type": "display_data",
          "data": {
            "text/html": [
              "<table class=\"simpletable\">\n",
              "<caption>Generalized Linear Model Regression Results</caption>\n",
              "<tr>\n",
              "  <th>Dep. Variable:</th>      <td>pct_primary</td>   <th>  No. Observations:  </th>  <td>  1522</td> \n",
              "</tr>\n",
              "<tr>\n",
              "  <th>Model:</th>                  <td>GLM</td>       <th>  Df Residuals:      </th>  <td>  1511</td> \n",
              "</tr>\n",
              "<tr>\n",
              "  <th>Model Family:</th>         <td>Poisson</td>     <th>  Df Model:          </th>  <td>    10</td> \n",
              "</tr>\n",
              "<tr>\n",
              "  <th>Link Function:</th>          <td>log</td>       <th>  Scale:             </th> <td>  1.0000</td>\n",
              "</tr>\n",
              "<tr>\n",
              "  <th>Method:</th>                <td>IRLS</td>       <th>  Log-Likelihood:    </th> <td> -1111.7</td>\n",
              "</tr>\n",
              "<tr>\n",
              "  <th>Date:</th>            <td>Wed, 18 Nov 2020</td> <th>  Deviance:          </th> <td>  211.98</td>\n",
              "</tr>\n",
              "<tr>\n",
              "  <th>Time:</th>                <td>22:30:23</td>     <th>  Pearson chi2:      </th>  <td>  215.</td> \n",
              "</tr>\n",
              "<tr>\n",
              "  <th>No. Iterations:</th>         <td>100</td>       <th>                     </th>     <td> </td>   \n",
              "</tr>\n",
              "<tr>\n",
              "  <th>Covariance Type:</th>     <td>nonrobust</td>    <th>                     </th>     <td> </td>   \n",
              "</tr>\n",
              "</table>\n",
              "<table class=\"simpletable\">\n",
              "<tr>\n",
              "         <td></td>            <th>coef</th>     <th>std err</th>      <th>z</th>      <th>P>|z|</th>  <th>[0.025</th>    <th>0.975]</th>  \n",
              "</tr>\n",
              "<tr>\n",
              "  <th>const</th>           <td>   -1.1316</td> <td>    0.094</td> <td>  -12.010</td> <td> 0.000</td> <td>   -1.316</td> <td>   -0.947</td>\n",
              "</tr>\n",
              "<tr>\n",
              "  <th>wealth</th>          <td>-4.221e-09</td> <td> 2.99e-09</td> <td>   -1.410</td> <td> 0.159</td> <td>-1.01e-08</td> <td> 1.65e-09</td>\n",
              "</tr>\n",
              "<tr>\n",
              "  <th>income</th>          <td>-3.454e-08</td> <td> 1.08e-07</td> <td>   -0.319</td> <td> 0.750</td> <td>-2.47e-07</td> <td> 1.78e-07</td>\n",
              "</tr>\n",
              "<tr>\n",
              "  <th>asset</th>           <td> 4.439e-09</td> <td> 3.11e-09</td> <td>    1.428</td> <td> 0.153</td> <td>-1.65e-09</td> <td> 1.05e-08</td>\n",
              "</tr>\n",
              "<tr>\n",
              "  <th>liability</th>       <td>-5.495e-09</td> <td> 5.23e-09</td> <td>   -1.051</td> <td> 0.293</td> <td>-1.57e-08</td> <td> 4.75e-09</td>\n",
              "</tr>\n",
              "<tr>\n",
              "  <th>unearned_income</th> <td> 4.267e-08</td> <td> 1.15e-07</td> <td>    0.372</td> <td> 0.710</td> <td>-1.82e-07</td> <td> 2.68e-07</td>\n",
              "</tr>\n",
              "<tr>\n",
              "  <th>income_earned</th>   <td>-7.561e-08</td> <td>  2.2e-07</td> <td>   -0.343</td> <td> 0.731</td> <td>-5.07e-07</td> <td> 3.56e-07</td>\n",
              "</tr>\n",
              "<tr>\n",
              "  <th>total_ninety</th>    <td>  6.75e-08</td> <td> 1.73e-07</td> <td>    0.390</td> <td> 0.697</td> <td>-2.72e-07</td> <td> 4.07e-07</td>\n",
              "</tr>\n",
              "<tr>\n",
              "  <th>democrat</th>        <td>    0.1014</td> <td>    0.073</td> <td>    1.385</td> <td> 0.166</td> <td>   -0.042</td> <td>    0.245</td>\n",
              "</tr>\n",
              "<tr>\n",
              "  <th>incumbent</th>       <td>    0.7933</td> <td>    0.084</td> <td>    9.487</td> <td> 0.000</td> <td>    0.629</td> <td>    0.957</td>\n",
              "</tr>\n",
              "<tr>\n",
              "  <th>against_incum</th>   <td>   -0.5821</td> <td>    0.219</td> <td>   -2.663</td> <td> 0.008</td> <td>   -1.010</td> <td>   -0.154</td>\n",
              "</tr>\n",
              "<tr>\n",
              "  <th>cycle_2014</th>      <td>    0.0977</td> <td>    0.091</td> <td>    1.069</td> <td> 0.285</td> <td>   -0.081</td> <td>    0.277</td>\n",
              "</tr>\n",
              "<tr>\n",
              "  <th>cycle_2016</th>      <td>    0.0871</td> <td>    0.086</td> <td>    1.016</td> <td> 0.310</td> <td>   -0.081</td> <td>    0.255</td>\n",
              "</tr>\n",
              "</table>"
            ],
            "text/plain": [
              "<class 'statsmodels.iolib.summary.Summary'>\n",
              "\"\"\"\n",
              "                 Generalized Linear Model Regression Results                  \n",
              "==============================================================================\n",
              "Dep. Variable:            pct_primary   No. Observations:                 1522\n",
              "Model:                            GLM   Df Residuals:                     1511\n",
              "Model Family:                 Poisson   Df Model:                           10\n",
              "Link Function:                    log   Scale:                          1.0000\n",
              "Method:                          IRLS   Log-Likelihood:                -1111.7\n",
              "Date:                Wed, 18 Nov 2020   Deviance:                       211.98\n",
              "Time:                        22:30:23   Pearson chi2:                     215.\n",
              "No. Iterations:                   100                                         \n",
              "Covariance Type:            nonrobust                                         \n",
              "===================================================================================\n",
              "                      coef    std err          z      P>|z|      [0.025      0.975]\n",
              "-----------------------------------------------------------------------------------\n",
              "const              -1.1316      0.094    -12.010      0.000      -1.316      -0.947\n",
              "wealth          -4.221e-09   2.99e-09     -1.410      0.159   -1.01e-08    1.65e-09\n",
              "income          -3.454e-08   1.08e-07     -0.319      0.750   -2.47e-07    1.78e-07\n",
              "asset            4.439e-09   3.11e-09      1.428      0.153   -1.65e-09    1.05e-08\n",
              "liability       -5.495e-09   5.23e-09     -1.051      0.293   -1.57e-08    4.75e-09\n",
              "unearned_income  4.267e-08   1.15e-07      0.372      0.710   -1.82e-07    2.68e-07\n",
              "income_earned   -7.561e-08    2.2e-07     -0.343      0.731   -5.07e-07    3.56e-07\n",
              "total_ninety      6.75e-08   1.73e-07      0.390      0.697   -2.72e-07    4.07e-07\n",
              "democrat            0.1014      0.073      1.385      0.166      -0.042       0.245\n",
              "incumbent           0.7933      0.084      9.487      0.000       0.629       0.957\n",
              "against_incum      -0.5821      0.219     -2.663      0.008      -1.010      -0.154\n",
              "cycle_2014          0.0977      0.091      1.069      0.285      -0.081       0.277\n",
              "cycle_2016          0.0871      0.086      1.016      0.310      -0.081       0.255\n",
              "===================================================================================\n",
              "\"\"\""
            ]
          },
          "metadata": {
            "tags": []
          }
        }
      ]
    },
    {
      "cell_type": "code",
      "metadata": {
        "id": "OjcM9APCdPnd",
        "colab": {
          "base_uri": "https://localhost:8080/"
        },
        "outputId": "d7961b5b-131f-4b91-c718-212725eae951"
      },
      "source": [
        "# performing predictions on the test datdaset\n",
        "yhat = res.predict(sm.add_constant(Xtest))\n",
        "# prediction = list(map(round, yhat))\n",
        "\n",
        "# comparing original and predicted values of y\n",
        "print('Acutal values :', list(ytest.values))\n",
        "print('Predictions :', list(yhat.values))"
      ],
      "execution_count": null,
      "outputs": [
        {
          "output_type": "stream",
          "text": [
            "Acutal values : [1.0, 0.015474217206693763, 0.13346368715083798, 0.2905934227448099, 0.5410526002706602, 0.006338018359358677, 1.0, 0.22082810539523207, 1.0, 0.07687576875768758, 0.3399492248501609, 0.58369600823623, 0.2362429979330797, 1.0, 0.8055706275999277, 0.2589696731360892, 0.13668430335097, 0.15889500272305584, 0.7192970023386009, 1.0, 0.7199737953122726, 0.8019613729610727, 0.00696291490971997, 0.09401462941069044, 1.0, 0.12142921918926272, 0.4079440992010081, 1.0, 1.0, 0.5412422985037093, 0.6696672354948805, 0.6048230470435908, 0.008805970149253729, 0.3781930225623695, 0.07062386097969553, 0.09288817923368364, 0.7972841606415942, 1.0, 0.4938040773168624, 1.0, 0.6679916458936873, 0.7151921948356808, 1.0, 0.17523512780566616, 0.0533163638239872, 1.0, 0.06723099881644626, 1.0, 0.3525582708535935, 1.0, 1.0, 0.8031559152971957, 0.3429158867485151, 0.6967560458829546, 0.12917214998261248, 1.0, 0.10199707359512793, 1.0, 0.12549573666468372, 0.5442518248175182, 1.0, 0.29329585039418204, 1.0, 0.2619753322497371, 1.0, 0.6682430289224026, 0.2367671536896616, 0.2970920540840897, 1.0, 0.056094944907994264, 0.7328115463325315, 0.8534866412503608, 0.32126436781609197, 0.5033338596256847, 0.4166531407239085, 0.4308115787604333, 0.04357606934415656, 0.4250651309474839, 0.1912461541916504, 1.0, 0.1740408577440198, 0.3637120997449703, 1.0, 0.2708184668612823, 0.5082001669459107, 0.7863985374771478, 0.06671806817808983, 0.110372453762891, 0.996146181590606, 1.0, 0.1898928482432096, 0.6576286468731887, 0.6263769756607306, 0.27384764954821, 0.04093235640845806, 0.2302705251370307, 0.2169450833417332, 0.5669581224114127, 0.8416071900607983, 0.043108744624206434, 0.04325729360645562, 0.2500025475110817, 0.053823040757891766, 0.9902552001398356, 0.10526644203169848, 0.8944847033140293, 1.0, 0.7534969481180059, 0.06949834698864453, 0.1999569522169609, 1.0, 0.997000337710324, 0.14497359135637425, 0.18494144972418464, 0.3448241981893466, 0.9205228905638559, 0.01659763226697218, 0.7360519375126799, 1.0, 1.0, 0.5489418419427197, 0.17163592896174865, 0.4500974458918863, 0.05037734740306075, 0.7128331990513259, 1.0, 0.5184028056775267, 0.30410012502739003, 0.12232627832927515, 0.32278124458311663, 0.2881236021726231, 1.0, 0.7984986753017368, 0.37950850661625707, 0.4743244441110892, 1.0, 0.9014247682902781, 0.21282653766413268, 1.0, 0.2800262046877275, 0.6788123079379016, 1.0, 0.7936064690026954, 0.8703929868000603, 0.1813316333338275, 0.6611711987855965, 0.12915956718656704, 0.9990953651309412, 1.0, 0.6573716769484825, 0.6827491741197325, 0.1412097938894549, 0.07350508154100685, 0.10454394693200664, 0.8717059997247832, 0.3149051570398974, 0.5930415828303153, 0.4750851984894538, 0.3188800476575465, 0.2430633408071749, 0.28385134617698865, 0.28918351490304345, 0.4589583310202405, 0.1426138482158153, 0.11193856882287144, 0.318335945747097, 0.7373514747225406, 0.3986157214492549, 0.6834481574075841, 0.17224061049050707, 0.34153939780334425, 0.159294265910523, 0.3929314821570353, 0.16668040642196166, 0.08138266442434433, 1.0, 0.029618205796122118, 0.19205544790579812, 0.3693846551612695, 0.5833375935108975, 0.2652294085129906, 0.7899420908259677, 0.19984635645302892, 0.9912143514259428, 0.6950272290599039, 0.3531175426788227, 0.5627825445151767, 0.1941356586567264, 0.08028022059919511, 0.07591986511950809, 0.5904117288305849, 0.05799385391222126, 0.09200185694863547, 0.9935486822840408, 1.0, 0.7474023551979538, 0.10367518869730837, 0.18205073545086334, 0.3149712740790808, 0.9887949543746644, 0.8075173569547522, 0.3427360884538699, 1.0, 0.4048996518533689, 0.3740128516950425, 0.6176954420064282, 0.03955766311879555, 0.07989453204996927, 0.4854249081166007, 1.0, 1.0, 0.2135702273890473, 0.8429970464790921, 1.0, 0.10079614181730699, 0.3005196287139343, 1.0, 0.5186521487017589, 0.9968514834356892, 0.8579742663815166, 0.5067283573994983, 0.2754325117491329, 0.06613338600302851, 0.08178646355924474, 0.6400107584722969, 0.4842260971519721, 0.7791811300238384, 0.7255364984671472, 0.16720011132758142, 0.32476043276661515, 0.230542684363465, 0.8922665137176178, 0.5847873793410371, 1.0, 0.2566498921639109, 0.07752801028308857, 0.28716680094867403, 0.08840597994070523, 0.5876870294482036, 0.7715663934183659, 0.013860157219693836, 0.5392614733171429, 0.04302070478541067, 0.15549736031982614, 0.8566138730019064, 0.13172558553933042, 0.3406650089937573, 1.0, 0.0945763766462719, 0.091204627254784, 0.07018399640982614, 0.538939329954955, 0.3696195627471479, 0.8644408377772625, 0.7320650320233448, 0.3426283230515175, 0.3313092720201951, 0.4652163706080288, 0.40790657586922136, 0.7559987806471279, 0.9896374640826556, 0.0642723356433789, 0.014974945984461913, 0.29230747363334003, 0.2635405690200211, 0.191209841156097, 0.1775862549856358, 0.3601806869513338, 0.852712517475364, 0.01556979459847895, 0.3051722160633052, 0.1610146862483311, 1.0, 0.5502318034306908, 0.1806916273897156, 0.8097608466937801, 0.308787100325703, 0.4898586038849612, 0.3797989031078611, 0.3298633827208005, 0.9714973519499278, 0.28117136152727196, 0.2284727249402084, 0.014549825020325922, 0.6573586023097424, 0.1574978464952623, 0.2335673368056429, 1.0, 0.2326453108431358, 0.4575464416199249, 0.8412398171142108, 0.7826435726122246, 0.7799660330524528, 0.3951769529564091, 0.3550914680890553, 0.5113273992734936, 1.0, 0.2657156893069631, 0.6803762351822169, 0.16258992805755396, 0.1777040925977096, 0.20167579948392333, 0.2983136202498095, 1.0, 0.007788322673818856, 0.4199388725567761, 0.9984987160071114, 0.014208304893507363, 0.8546705587989991, 0.17035570850135925, 0.6660881174899866, 0.041535297120379545, 0.4587577014962907, 0.15444990813790122, 0.34499328401975066, 0.3056320783593511, 0.4257575405223135, 1.0, 0.13898933862006174, 0.4696910185912542, 0.1582773862409121, 0.4429172364844981, 0.060380949675439964, 0.19532959701094207, 0.28098352042374025, 1.0, 0.7649713962406488, 1.0, 0.18255030103432307, 0.18795836290513365, 0.5347836293919712, 0.1492776350472123, 0.28399863633546146, 0.1412278831805585, 1.0, 0.7252992050318859, 0.3897601427039424, 0.6834186939820742, 0.10770733439886344, 0.5358788392837889, 1.0, 0.006348508979076281, 0.4126575838091469, 0.1633344286328135, 0.24147790734039226, 0.779461404354761, 0.6331760316066726, 0.9059400799626148, 0.9982830161682644, 0.9890468667719852, 0.7038102237234478, 0.2020722952001756, 0.8549520335089853, 0.7462715497582778, 0.307009854702898, 0.4536275169112702, 0.0913737177875926, 1.0, 0.2006874707043734, 0.019564237415477085, 0.5013792769684944, 0.6027418670596378, 0.15467576503396044, 0.5280914540638505, 0.9094992109841792, 0.16130553864881314, 0.29508069522036, 0.1932592502137013, 0.2881486130757773, 0.2751693002257337, 0.05143133334797989, 0.9887746710526316, 0.028633638044548895, 0.6803399762694626, 0.5387282735902215, 1.0, 0.05543160864857771, 0.6752395672333849, 0.7678659844858887, 0.1572952667167543]\n",
            "Predictions : [0.8903401204083066, 0.3492301707594164, 0.35023369062624626, 0.19888539763473498, 0.8013786164324038, 0.3210503890604985, 0.3211391457253483, 0.35700327155562395, 0.7854704903534667, 0.3941006456751155, 0.3849902827253755, 0.8696664542696267, 0.32070808192258454, 0.7126712739088662, 0.7897426608312722, 0.3124285641492333, 0.3573704460352122, 0.3925821821697108, 0.7147212136111063, 0.7885030438369967, 0.3550337142117531, 0.3531302043636774, 0.3154006877927966, 0.21771285559872214, 0.3556416679370697, 0.3170544237684924, 0.31949852420347064, 0.3532755574612706, 0.3854850089450936, 0.3561986798214027, 0.7129769815144484, 0.3518730057094176, 0.35160514219086436, 0.35614322092685696, 0.35303104231738913, 0.38676037763617377, 0.8031950831885712, 0.35297882940305936, 0.8773675195824652, 0.39383399537141806, 0.3562156958509944, 0.7826500793964766, 0.8652754209289002, 0.1980124080081768, 0.1962393658778813, 0.3543648553951777, 0.4057647218920297, 0.7839843308462858, 0.36209727405846237, 0.8610275233820344, 0.8850632838374717, 0.7878468673032286, 0.3505006556052976, 0.35424900763821504, 0.34945462155046186, 0.3560372655674744, 0.39232534000176195, 0.710724377782252, 0.3540938279750909, 0.35648557115588736, 0.78007003490661, 0.3524883026295208, 0.81967580558745, 0.3942587881547338, 0.38908374626288167, 0.8641636554356061, 0.19996221142156761, 0.37176241719515923, 0.8069267179158826, 0.31684005424254064, 0.3568320497915615, 0.7146694244804971, 0.17683179759697656, 0.8865022523717524, 0.3594563393828232, 0.8736904927785634, 0.21760912879369138, 0.8600522586007402, 0.3528701000907119, 0.7963587084962133, 0.35759387270097026, 0.3245014153895213, 0.777813589397455, 0.5032331666861332, 1.0163878268372482, 0.7280964155523094, 0.31418892443110685, 0.3528323682138519, 0.7188743121464143, 0.7761409951588154, 0.36373417110129896, 0.3694457099166958, 0.38513454382486173, 0.3575697576835787, 0.35142822791534034, 0.32329685277260073, 0.3578430007112298, 0.3479577841915187, 0.717111682936279, 0.3209415221120838, 0.17594932342726294, 0.1954612111037953, 0.35359738209207664, 0.7186589660479171, 0.32265062308078823, 0.7779204829705689, 0.7301863811494581, 0.3847630829590627, 0.35429360644473923, 0.35207081097197557, 0.7988617867607396, 0.7854308415580669, 0.3593183875501347, 0.3529239606438922, 0.3541591934096454, 0.8618041150981192, 0.32201231855757156, 0.9065550302062233, 0.8709747443513755, 0.8129860470422803, 0.3602452017862476, 0.32232790442598414, 0.35166827552171437, 0.3225224570673588, 0.7798739085499681, 0.7938718888225739, 0.7136030902094354, 0.32118865629326077, 0.39404694128671075, 0.3926577820082412, 0.3869104283242391, 0.35202744849686657, 0.7894910699300776, 0.37792265283330956, 0.7186530614640531, 0.871348470976391, 0.8041948487537017, 0.35482200633421757, 0.794426211698595, 0.35024395916424356, 0.3925089820842928, 0.38700915383491535, 0.7870842292498819, 0.8945326461965628, 0.32189423714587034, 0.8574101104299822, 0.19677634466684593, 0.8674312102550166, 0.7183995293327395, 0.3526743658365806, 0.7968411549768513, 0.35899438228769714, 0.34772802395133556, 0.3303929836820016, 0.8612952014618745, 0.40845729397982566, 0.8258835085076355, 0.35354701322398663, 0.3606566638510393, 0.35401647931947283, 0.3855179508269935, 0.36718708774862896, 0.8074493539408645, 0.3202976913397073, 0.3197320945020436, 0.35287256023256197, 0.7230502178440447, 0.38853547040861663, 0.8730122528762455, 0.35144168988403757, 0.3149455101004611, 0.3484299098337896, 0.17862533945259018, 0.32300174768118806, 0.3515571208935951, 0.7753249306439864, 0.34573711180094585, 0.35243834203798347, 0.35992634326493694, 0.7159984297221449, 0.4736479046908855, 0.34995974935037477, 0.35320559916001465, 0.7901385660090037, 0.7866484918645638, 0.3574675230622372, 0.8603135500619679, 0.3526128161933565, 0.31773362083768847, 0.35340744161796356, 0.8780307618644742, 0.34731578875946634, 0.18172129226601344, 0.38470036702393423, 0.882839696325442, 0.7131828623744276, 0.31888373684783194, 0.351035747396377, 0.3922210726849669, 0.7178860873005861, 0.7822792024660593, 0.34924707845153163, 0.32298155176745663, 0.321163878641954, 0.8563690117218232, 0.39064012074111193, 0.3569731412457679, 0.3201580227910404, 0.1782378189571158, 0.7788517039491096, 0.8610814825235095, 0.3572152449480593, 0.8762590310842471, 0.7886736183120993, 0.21912960952034966, 0.31266533481040615, 0.7666894770244734, 0.3574110117557926, 0.7947987104679253, 0.7177499160632724, 0.9352834137424116, 0.17210952905361168, 0.35166393974645804, 0.18334417195485203, 0.8737360790688041, 0.7911966904554458, 0.39151100942708983, 0.32102546437449797, 0.3441083953225086, 0.36045679619348653, 0.3523847130059531, 0.8607991837770979, 0.8765988932520454, 0.39350448818168243, 0.3900706455707045, 0.3507006495341237, 0.1973239739755047, 0.19445685429532536, 0.3906002456650279, 0.35319380772304554, 0.3539248561680682, 0.3899479403737817, 0.21784609791807014, 0.32524501433515424, 0.7984976285505844, 0.19814638615981417, 0.35141747656554445, 0.3225593596531608, 0.35650545956364965, 0.34534075540698894, 0.35005923894097246, 0.3209536178912269, 0.35384754158265236, 0.8679488923252268, 0.35338605885776, 0.35556465641466706, 0.3936082303457395, 0.34658406777501977, 0.7796148647579849, 0.7933387627350255, 0.31601176346645676, 0.3504970130743101, 0.3539334454484074, 0.1993679188771669, 0.34921325511073636, 0.3828299397465332, 0.2159573593528356, 0.35252381404458194, 0.7866506209356035, 0.32414723303170007, 0.32132258956931864, 0.3530839933914333, 0.3507232885418029, 0.3166675839948702, 0.3466805888216052, 0.7768701152942934, 0.31987339240791984, 0.3869076404487537, 0.34800282190401177, 0.35158417378256446, 0.8575019765350552, 0.18562408669219446, 0.1791593701607171, 0.3578022392936793, 0.35207000163074026, 0.19059238661053338, 0.3499209468716569, 0.407333772224359, 0.3467706517308853, 0.412769387070153, 0.8081964310577595, 0.35572524731526906, 0.7978664578125938, 0.35510611259616587, 0.19755215569524318, 0.3971301073435463, 0.7829399296358571, 0.3543060315192126, 0.7705714946362705, 0.3545775711964029, 0.35141338307796766, 0.32117114676061737, 0.3502916549084132, 0.9060680477174669, 0.34947844178071097, 0.7789097541026958, 0.7877996951562587, 0.3188515232397038, 0.8613177166422141, 0.3551061057260734, 0.39151627577476317, 0.2125233459996584, 0.3561961831503456, 0.3754834715911475, 0.18074997805929452, 0.38397135098220175, 0.36134045790211555, 0.7926203304893897, 0.2009707966178185, 0.19943317717003037, 0.32258775553036606, 0.8785898096871919, 0.3906247335026462, 0.31944863630339404, 0.34824278740927084, 0.8819081374758416, 0.7862836236243, 0.8018723304970452, 0.387833317529229, 0.2217037152454925, 0.8686111212640936, 0.31958979030676404, 0.35316263146176013, 0.35168849817441733, 0.7944341864538416, 0.35386346230729937, 0.7207729597451434, 0.3495192592132622, 0.3687722678641007, 0.7874516900260964, 0.7176687631326395, 0.3157456788055268, 0.3381669878367979, 0.23262002242309304, 0.3594336745219507, 0.7808772296338314, 0.35620077240514225, 0.8738040599964397, 0.36477209213909323, 0.7917823308215719, 0.8726346934125724, 0.3890869396478919, 0.7226447002091133, 0.7779547259238976, 0.3464590936026524, 0.34933821164883705, 0.3463536548556168, 0.796028441732834, 0.3552935888516819, 0.34879011664137205, 0.3556667013555412, 0.7784955291163849, 0.21588112938202478, 0.3357814242513352, 0.7927323108251403, 0.19415382481342833, 0.3544529524593054, 0.3449115965537906, 0.39260501756145794, 0.19635069492357815, 0.3873841713647893, 0.3228476278014509, 0.3495640803224952, 0.34999025403206224, 0.3561015625028361, 0.8079793152294552, 0.3210835008062578, 0.3576086047741216, 0.7756834282186591, 0.3542095219910168]\n"
          ],
          "name": "stdout"
        }
      ]
    },
    {
      "cell_type": "code",
      "metadata": {
        "colab": {
          "base_uri": "https://localhost:8080/"
        },
        "id": "x_0auuWje85E",
        "outputId": "31f5815f-13cf-44ce-dba5-f619cf9eca5b"
      },
      "source": [
        "from sklearn.metrics import mean_squared_error\n",
        "\n",
        "mean_squared_error(list(ytest.values), list(yhat.values))"
      ],
      "execution_count": null,
      "outputs": [
        {
          "output_type": "execute_result",
          "data": {
            "text/plain": [
              "0.06246598459247729"
            ]
          },
          "metadata": {
            "tags": []
          },
          "execution_count": 133
        }
      ]
    },
    {
      "cell_type": "code",
      "metadata": {
        "colab": {
          "base_uri": "https://localhost:8080/",
          "height": 521
        },
        "id": "FXR_OJyAe0yf",
        "outputId": "00563b31-30b9-44ed-ebbe-2c26e62b5827"
      },
      "source": [
        "mod = sm.GLM(endog, exog, family=sm.families.Gaussian(sm.families.links.log()))\n",
        "res = mod.fit()\n",
        "display(res.summary())"
      ],
      "execution_count": null,
      "outputs": [
        {
          "output_type": "display_data",
          "data": {
            "text/html": [
              "<table class=\"simpletable\">\n",
              "<caption>Generalized Linear Model Regression Results</caption>\n",
              "<tr>\n",
              "  <th>Dep. Variable:</th>      <td>pct_primary</td>   <th>  No. Observations:  </th>  <td>  1522</td> \n",
              "</tr>\n",
              "<tr>\n",
              "  <th>Model:</th>                  <td>GLM</td>       <th>  Df Residuals:      </th>  <td>  1511</td> \n",
              "</tr>\n",
              "<tr>\n",
              "  <th>Model Family:</th>        <td>Gaussian</td>     <th>  Df Model:          </th>  <td>    10</td> \n",
              "</tr>\n",
              "<tr>\n",
              "  <th>Link Function:</th>          <td>log</td>       <th>  Scale:             </th> <td>0.056885</td>\n",
              "</tr>\n",
              "<tr>\n",
              "  <th>Method:</th>                <td>IRLS</td>       <th>  Log-Likelihood:    </th> <td>  31.590</td>\n",
              "</tr>\n",
              "<tr>\n",
              "  <th>Date:</th>            <td>Wed, 18 Nov 2020</td> <th>  Deviance:          </th> <td>  85.482</td>\n",
              "</tr>\n",
              "<tr>\n",
              "  <th>Time:</th>                <td>22:34:37</td>     <th>  Pearson chi2:      </th>  <td>  85.5</td> \n",
              "</tr>\n",
              "<tr>\n",
              "  <th>No. Iterations:</th>         <td>100</td>       <th>                     </th>     <td> </td>   \n",
              "</tr>\n",
              "<tr>\n",
              "  <th>Covariance Type:</th>     <td>nonrobust</td>    <th>                     </th>     <td> </td>   \n",
              "</tr>\n",
              "</table>\n",
              "<table class=\"simpletable\">\n",
              "<tr>\n",
              "         <td></td>            <th>coef</th>     <th>std err</th>      <th>z</th>      <th>P>|z|</th>  <th>[0.025</th>    <th>0.975]</th>  \n",
              "</tr>\n",
              "<tr>\n",
              "  <th>const</th>           <td>   -1.0966</td> <td>    0.034</td> <td>  -32.728</td> <td> 0.000</td> <td>   -1.162</td> <td>   -1.031</td>\n",
              "</tr>\n",
              "<tr>\n",
              "  <th>wealth</th>          <td>-1.711e-09</td> <td> 1.02e-09</td> <td>   -1.677</td> <td> 0.094</td> <td>-3.71e-09</td> <td> 2.89e-10</td>\n",
              "</tr>\n",
              "<tr>\n",
              "  <th>income</th>          <td>-1.252e-08</td> <td> 4.15e-08</td> <td>   -0.302</td> <td> 0.763</td> <td>-9.38e-08</td> <td> 6.88e-08</td>\n",
              "</tr>\n",
              "<tr>\n",
              "  <th>asset</th>           <td> 2.028e-09</td> <td> 1.14e-09</td> <td>    1.785</td> <td> 0.074</td> <td>-1.99e-10</td> <td> 4.26e-09</td>\n",
              "</tr>\n",
              "<tr>\n",
              "  <th>liability</th>       <td>-4.989e-09</td> <td> 1.84e-09</td> <td>   -2.705</td> <td> 0.007</td> <td> -8.6e-09</td> <td>-1.37e-09</td>\n",
              "</tr>\n",
              "<tr>\n",
              "  <th>unearned_income</th> <td> 1.143e-08</td> <td> 4.35e-08</td> <td>    0.263</td> <td> 0.793</td> <td>-7.38e-08</td> <td> 9.67e-08</td>\n",
              "</tr>\n",
              "<tr>\n",
              "  <th>income_earned</th>   <td>-2.427e-08</td> <td> 8.39e-08</td> <td>   -0.289</td> <td> 0.772</td> <td>-1.89e-07</td> <td>  1.4e-07</td>\n",
              "</tr>\n",
              "<tr>\n",
              "  <th>total_ninety</th>    <td> 5.571e-08</td> <td> 5.22e-08</td> <td>    1.067</td> <td> 0.286</td> <td>-4.67e-08</td> <td> 1.58e-07</td>\n",
              "</tr>\n",
              "<tr>\n",
              "  <th>democrat</th>        <td>    0.0689</td> <td>    0.022</td> <td>    3.090</td> <td> 0.002</td> <td>    0.025</td> <td>    0.113</td>\n",
              "</tr>\n",
              "<tr>\n",
              "  <th>incumbent</th>       <td>    0.8011</td> <td>    0.030</td> <td>   27.126</td> <td> 0.000</td> <td>    0.743</td> <td>    0.859</td>\n",
              "</tr>\n",
              "<tr>\n",
              "  <th>against_incum</th>   <td>   -0.5891</td> <td>    0.115</td> <td>   -5.119</td> <td> 0.000</td> <td>   -0.815</td> <td>   -0.364</td>\n",
              "</tr>\n",
              "<tr>\n",
              "  <th>cycle_2014</th>      <td>    0.0604</td> <td>    0.027</td> <td>    2.200</td> <td> 0.028</td> <td>    0.007</td> <td>    0.114</td>\n",
              "</tr>\n",
              "<tr>\n",
              "  <th>cycle_2016</th>      <td>    0.0525</td> <td>    0.026</td> <td>    1.988</td> <td> 0.047</td> <td>    0.001</td> <td>    0.104</td>\n",
              "</tr>\n",
              "</table>"
            ],
            "text/plain": [
              "<class 'statsmodels.iolib.summary.Summary'>\n",
              "\"\"\"\n",
              "                 Generalized Linear Model Regression Results                  \n",
              "==============================================================================\n",
              "Dep. Variable:            pct_primary   No. Observations:                 1522\n",
              "Model:                            GLM   Df Residuals:                     1511\n",
              "Model Family:                Gaussian   Df Model:                           10\n",
              "Link Function:                    log   Scale:                        0.056885\n",
              "Method:                          IRLS   Log-Likelihood:                 31.590\n",
              "Date:                Wed, 18 Nov 2020   Deviance:                       85.482\n",
              "Time:                        22:34:37   Pearson chi2:                     85.5\n",
              "No. Iterations:                   100                                         \n",
              "Covariance Type:            nonrobust                                         \n",
              "===================================================================================\n",
              "                      coef    std err          z      P>|z|      [0.025      0.975]\n",
              "-----------------------------------------------------------------------------------\n",
              "const              -1.0966      0.034    -32.728      0.000      -1.162      -1.031\n",
              "wealth          -1.711e-09   1.02e-09     -1.677      0.094   -3.71e-09    2.89e-10\n",
              "income          -1.252e-08   4.15e-08     -0.302      0.763   -9.38e-08    6.88e-08\n",
              "asset            2.028e-09   1.14e-09      1.785      0.074   -1.99e-10    4.26e-09\n",
              "liability       -4.989e-09   1.84e-09     -2.705      0.007    -8.6e-09   -1.37e-09\n",
              "unearned_income  1.143e-08   4.35e-08      0.263      0.793   -7.38e-08    9.67e-08\n",
              "income_earned   -2.427e-08   8.39e-08     -0.289      0.772   -1.89e-07     1.4e-07\n",
              "total_ninety     5.571e-08   5.22e-08      1.067      0.286   -4.67e-08    1.58e-07\n",
              "democrat            0.0689      0.022      3.090      0.002       0.025       0.113\n",
              "incumbent           0.8011      0.030     27.126      0.000       0.743       0.859\n",
              "against_incum      -0.5891      0.115     -5.119      0.000      -0.815      -0.364\n",
              "cycle_2014          0.0604      0.027      2.200      0.028       0.007       0.114\n",
              "cycle_2016          0.0525      0.026      1.988      0.047       0.001       0.104\n",
              "===================================================================================\n",
              "\"\"\""
            ]
          },
          "metadata": {
            "tags": []
          }
        }
      ]
    },
    {
      "cell_type": "code",
      "metadata": {
        "id": "dRD4MILedULG",
        "colab": {
          "base_uri": "https://localhost:8080/"
        },
        "outputId": "b17be203-986d-43e1-d667-34b05a91c12a"
      },
      "source": [
        "def mape(actual, pred): \n",
        "    epsilon = np.finfo(np.float64).eps\n",
        "    mape = np.abs(pred - actual) / np.maximum(np.abs(actual), epsilon)\n",
        "    output_errors = np.average(mape, axis=0)\n",
        "\n",
        "    return np.average(output_errors)\n",
        "mape(ytest, yhat)"
      ],
      "execution_count": null,
      "outputs": [
        {
          "output_type": "execute_result",
          "data": {
            "text/plain": [
              "1.8839639072054075"
            ]
          },
          "metadata": {
            "tags": []
          },
          "execution_count": 136
        }
      ]
    },
    {
      "cell_type": "code",
      "metadata": {
        "id": "v14YlHr7LEBq"
      },
      "source": [
        "!pip install eli5\n",
        "import eli5\n",
        "from eli5.sklearn import PermutationImportance\n"
      ],
      "execution_count": null,
      "outputs": []
    },
    {
      "cell_type": "code",
      "metadata": {
        "id": "ConpNtgwda04"
      },
      "source": [
        "ytrain = np.ravel(ytrain)\n",
        "ytest = np.ravel(ytest)"
      ],
      "execution_count": null,
      "outputs": []
    },
    {
      "cell_type": "code",
      "metadata": {
        "id": "un60P4VkuCeZ",
        "colab": {
          "base_uri": "https://localhost:8080/"
        },
        "outputId": "e393ff01-42fd-4c5b-eb6d-993e7eede2dd"
      },
      "source": [
        "from sklearn import svm\n",
        "from sklearn.pipeline import make_pipeline\n",
        "from sklearn.preprocessing import StandardScaler\n",
        "\n",
        "def mape(actual, pred): \n",
        "    epsilon = np.finfo(np.float64).eps\n",
        "    mape = np.abs(pred - actual) / np.maximum(np.abs(actual), epsilon)\n",
        "    output_errors = np.average(mape, axis=0)\n",
        "\n",
        "    return np.average(output_errors)\n",
        "\n",
        "# standard scale or not\n",
        "regr = make_pipeline(StandardScaler(), svm.SVR(C=10, epsilon=0.001, gamma='scale'))\n",
        "# regr = svm.SVR(C=10, epsilon=0.001, gamma='scale')\n",
        "svr = regr.fit(Xtrain[[]], ytrain)\n",
        "ypred = regr.predict(Xtest)\n",
        "mape(ytest, ypred)"
      ],
      "execution_count": null,
      "outputs": [
        {
          "output_type": "execute_result",
          "data": {
            "text/plain": [
              "1.5392283633361794"
            ]
          },
          "metadata": {
            "tags": []
          },
          "execution_count": 144
        }
      ]
    },
    {
      "cell_type": "code",
      "metadata": {
        "id": "lkM2TFoxJ7Ir",
        "colab": {
          "base_uri": "https://localhost:8080/",
          "height": 238
        },
        "outputId": "bf1abaa3-cc3b-438c-c7b7-51642be15c13"
      },
      "source": [
        "perm = PermutationImportance(svr, random_state=1).fit(Xtest, ytest)\n",
        "eli5.show_weights(perm, feature_names = Xtest.columns.tolist())"
      ],
      "execution_count": null,
      "outputs": [
        {
          "output_type": "execute_result",
          "data": {
            "text/html": [
              "\n",
              "    <style>\n",
              "    table.eli5-weights tr:hover {\n",
              "        filter: brightness(85%);\n",
              "    }\n",
              "</style>\n",
              "\n",
              "\n",
              "\n",
              "    \n",
              "\n",
              "    \n",
              "\n",
              "    \n",
              "\n",
              "    \n",
              "\n",
              "    \n",
              "\n",
              "    \n",
              "\n",
              "\n",
              "    \n",
              "\n",
              "    \n",
              "\n",
              "    \n",
              "\n",
              "    \n",
              "\n",
              "    \n",
              "\n",
              "    \n",
              "\n",
              "\n",
              "    \n",
              "\n",
              "    \n",
              "\n",
              "    \n",
              "\n",
              "    \n",
              "\n",
              "    \n",
              "        <table class=\"eli5-weights eli5-feature-importances\" style=\"border-collapse: collapse; border: none; margin-top: 0em; table-layout: auto;\">\n",
              "    <thead>\n",
              "    <tr style=\"border: none;\">\n",
              "        <th style=\"padding: 0 1em 0 0.5em; text-align: right; border: none;\">Weight</th>\n",
              "        <th style=\"padding: 0 0.5em 0 0.5em; text-align: left; border: none;\">Feature</th>\n",
              "    </tr>\n",
              "    </thead>\n",
              "    <tbody>\n",
              "    \n",
              "        <tr style=\"background-color: hsl(120, 100.00%, 80.00%); border: none;\">\n",
              "            <td style=\"padding: 0 1em 0 0.5em; text-align: right; border: none;\">\n",
              "                0.9563\n",
              "                \n",
              "                    &plusmn; 0.1073\n",
              "                \n",
              "            </td>\n",
              "            <td style=\"padding: 0 0.5em 0 0.5em; text-align: left; border: none;\">\n",
              "                incumbent\n",
              "            </td>\n",
              "        </tr>\n",
              "    \n",
              "        <tr style=\"background-color: hsl(120, 100.00%, 97.03%); border: none;\">\n",
              "            <td style=\"padding: 0 1em 0 0.5em; text-align: right; border: none;\">\n",
              "                0.0626\n",
              "                \n",
              "                    &plusmn; 0.0467\n",
              "                \n",
              "            </td>\n",
              "            <td style=\"padding: 0 0.5em 0 0.5em; text-align: left; border: none;\">\n",
              "                against_incum\n",
              "            </td>\n",
              "        </tr>\n",
              "    \n",
              "        <tr style=\"background-color: hsl(120, 100.00%, 97.56%); border: none;\">\n",
              "            <td style=\"padding: 0 1em 0 0.5em; text-align: right; border: none;\">\n",
              "                0.0475\n",
              "                \n",
              "                    &plusmn; 0.0707\n",
              "                \n",
              "            </td>\n",
              "            <td style=\"padding: 0 0.5em 0 0.5em; text-align: left; border: none;\">\n",
              "                democrat\n",
              "            </td>\n",
              "        </tr>\n",
              "    \n",
              "        <tr style=\"background-color: hsl(120, 100.00%, 97.88%); border: none;\">\n",
              "            <td style=\"padding: 0 1em 0 0.5em; text-align: right; border: none;\">\n",
              "                0.0388\n",
              "                \n",
              "                    &plusmn; 0.0116\n",
              "                \n",
              "            </td>\n",
              "            <td style=\"padding: 0 0.5em 0 0.5em; text-align: left; border: none;\">\n",
              "                cycle_2014\n",
              "            </td>\n",
              "        </tr>\n",
              "    \n",
              "        <tr style=\"background-color: hsl(120, 100.00%, 99.01%); border: none;\">\n",
              "            <td style=\"padding: 0 1em 0 0.5em; text-align: right; border: none;\">\n",
              "                0.0131\n",
              "                \n",
              "                    &plusmn; 0.0288\n",
              "                \n",
              "            </td>\n",
              "            <td style=\"padding: 0 0.5em 0 0.5em; text-align: left; border: none;\">\n",
              "                total_ninety\n",
              "            </td>\n",
              "        </tr>\n",
              "    \n",
              "        <tr style=\"background-color: hsl(120, 100.00%, 99.03%); border: none;\">\n",
              "            <td style=\"padding: 0 1em 0 0.5em; text-align: right; border: none;\">\n",
              "                0.0126\n",
              "                \n",
              "                    &plusmn; 0.0240\n",
              "                \n",
              "            </td>\n",
              "            <td style=\"padding: 0 0.5em 0 0.5em; text-align: left; border: none;\">\n",
              "                liability\n",
              "            </td>\n",
              "        </tr>\n",
              "    \n",
              "        <tr style=\"background-color: hsl(120, 100.00%, 99.41%); border: none;\">\n",
              "            <td style=\"padding: 0 1em 0 0.5em; text-align: right; border: none;\">\n",
              "                0.0062\n",
              "                \n",
              "                    &plusmn; 0.0044\n",
              "                \n",
              "            </td>\n",
              "            <td style=\"padding: 0 0.5em 0 0.5em; text-align: left; border: none;\">\n",
              "                cycle_2016\n",
              "            </td>\n",
              "        </tr>\n",
              "    \n",
              "        <tr style=\"background-color: hsl(120, 100.00%, 99.54%); border: none;\">\n",
              "            <td style=\"padding: 0 1em 0 0.5em; text-align: right; border: none;\">\n",
              "                0.0044\n",
              "                \n",
              "                    &plusmn; 0.0201\n",
              "                \n",
              "            </td>\n",
              "            <td style=\"padding: 0 0.5em 0 0.5em; text-align: left; border: none;\">\n",
              "                wealth\n",
              "            </td>\n",
              "        </tr>\n",
              "    \n",
              "        <tr style=\"background-color: hsl(120, 100.00%, 99.75%); border: none;\">\n",
              "            <td style=\"padding: 0 1em 0 0.5em; text-align: right; border: none;\">\n",
              "                0.0018\n",
              "                \n",
              "                    &plusmn; 0.0178\n",
              "                \n",
              "            </td>\n",
              "            <td style=\"padding: 0 0.5em 0 0.5em; text-align: left; border: none;\">\n",
              "                income_earned\n",
              "            </td>\n",
              "        </tr>\n",
              "    \n",
              "        <tr style=\"background-color: hsl(120, 100.00%, 99.91%); border: none;\">\n",
              "            <td style=\"padding: 0 1em 0 0.5em; text-align: right; border: none;\">\n",
              "                0.0004\n",
              "                \n",
              "                    &plusmn; 0.0326\n",
              "                \n",
              "            </td>\n",
              "            <td style=\"padding: 0 0.5em 0 0.5em; text-align: left; border: none;\">\n",
              "                income\n",
              "            </td>\n",
              "        </tr>\n",
              "    \n",
              "        <tr style=\"background-color: hsl(0, 100.00%, 99.87%); border: none;\">\n",
              "            <td style=\"padding: 0 1em 0 0.5em; text-align: right; border: none;\">\n",
              "                -0.0007\n",
              "                \n",
              "                    &plusmn; 0.0128\n",
              "                \n",
              "            </td>\n",
              "            <td style=\"padding: 0 0.5em 0 0.5em; text-align: left; border: none;\">\n",
              "                unearned_income\n",
              "            </td>\n",
              "        </tr>\n",
              "    \n",
              "        <tr style=\"background-color: hsl(0, 100.00%, 99.44%); border: none;\">\n",
              "            <td style=\"padding: 0 1em 0 0.5em; text-align: right; border: none;\">\n",
              "                -0.0057\n",
              "                \n",
              "                    &plusmn; 0.0173\n",
              "                \n",
              "            </td>\n",
              "            <td style=\"padding: 0 0.5em 0 0.5em; text-align: left; border: none;\">\n",
              "                asset\n",
              "            </td>\n",
              "        </tr>\n",
              "    \n",
              "    \n",
              "    </tbody>\n",
              "</table>\n",
              "    \n",
              "\n",
              "    \n",
              "\n",
              "\n",
              "    \n",
              "\n",
              "    \n",
              "\n",
              "    \n",
              "\n",
              "    \n",
              "\n",
              "    \n",
              "\n",
              "    \n",
              "\n",
              "\n",
              "\n"
            ],
            "text/plain": [
              "<IPython.core.display.HTML object>"
            ]
          },
          "metadata": {
            "tags": []
          },
          "execution_count": 145
        }
      ]
    },
    {
      "cell_type": "code",
      "metadata": {
        "id": "bMP2yCSSOQUv",
        "colab": {
          "base_uri": "https://localhost:8080/"
        },
        "outputId": "26f824c2-3ed7-456b-d1cf-843fb1e28a2e"
      },
      "source": [
        "row_to_show = 5\n",
        "data_for_prediction = Xtest.iloc[row_to_show]  # use 1 row of data here. Could use multiple rows if desired\n",
        "data_for_prediction_array = data_for_prediction[['wealth', 'income', 'liability', 'asset', 'unearned_income', 'income_earned']].values.reshape(1, -1)\n",
        "\n",
        "\n",
        "regr.predict(data_for_prediction_array)"
      ],
      "execution_count": null,
      "outputs": [
        {
          "output_type": "execute_result",
          "data": {
            "text/plain": [
              "array([0.75166141])"
            ]
          },
          "metadata": {
            "tags": []
          },
          "execution_count": 70
        }
      ]
    },
    {
      "cell_type": "code",
      "metadata": {
        "id": "Ky0Ldtrc1xHx",
        "colab": {
          "base_uri": "https://localhost:8080/"
        },
        "outputId": "ab8a3015-c771-4713-eecd-fae7375be861"
      },
      "source": [
        "from sklearn.linear_model import ElasticNet\n",
        "\n",
        "regr = ElasticNet(l1_ratio=0.5, random_state=0)\n",
        "enet = regr.fit(Xtrain, ytrain)\n",
        "ypred = regr.predict(Xtest)\n",
        "mape(ytest, ypred)"
      ],
      "execution_count": null,
      "outputs": [
        {
          "output_type": "stream",
          "text": [
            "/usr/local/lib/python3.6/dist-packages/sklearn/linear_model/_coordinate_descent.py:476: ConvergenceWarning: Objective did not converge. You might want to increase the number of iterations. Duality gap: 56.60927187892153, tolerance: 0.01657938640549281\n",
            "  positive)\n"
          ],
          "name": "stderr"
        },
        {
          "output_type": "execute_result",
          "data": {
            "text/plain": [
              "2.8270942316307517"
            ]
          },
          "metadata": {
            "tags": []
          },
          "execution_count": 141
        }
      ]
    },
    {
      "cell_type": "code",
      "metadata": {
        "id": "JLkSP1ysML8z",
        "colab": {
          "base_uri": "https://localhost:8080/",
          "height": 153
        },
        "outputId": "7e8aac20-de48-48a6-8524-beec43f6ea8a"
      },
      "source": [
        "perm = PermutationImportance(enet, random_state=1).fit(Xtest[['wealth', 'income', 'liability', 'asset', 'unearned_income', 'income_earned', 'total_ninety']], ytest)\n",
        "eli5.show_weights(perm, feature_names = Xtest[['wealth', 'income', 'liability', 'asset', 'unearned_income', 'income_earned', 'total_ninety']].columns.tolist())"
      ],
      "execution_count": null,
      "outputs": [
        {
          "output_type": "execute_result",
          "data": {
            "text/html": [
              "\n",
              "    <style>\n",
              "    table.eli5-weights tr:hover {\n",
              "        filter: brightness(85%);\n",
              "    }\n",
              "</style>\n",
              "\n",
              "\n",
              "\n",
              "    \n",
              "\n",
              "    \n",
              "\n",
              "    \n",
              "\n",
              "    \n",
              "\n",
              "    \n",
              "\n",
              "    \n",
              "\n",
              "\n",
              "    \n",
              "\n",
              "    \n",
              "\n",
              "    \n",
              "\n",
              "    \n",
              "\n",
              "    \n",
              "\n",
              "    \n",
              "\n",
              "\n",
              "    \n",
              "\n",
              "    \n",
              "\n",
              "    \n",
              "\n",
              "    \n",
              "\n",
              "    \n",
              "        <table class=\"eli5-weights eli5-feature-importances\" style=\"border-collapse: collapse; border: none; margin-top: 0em; table-layout: auto;\">\n",
              "    <thead>\n",
              "    <tr style=\"border: none;\">\n",
              "        <th style=\"padding: 0 1em 0 0.5em; text-align: right; border: none;\">Weight</th>\n",
              "        <th style=\"padding: 0 0.5em 0 0.5em; text-align: left; border: none;\">Feature</th>\n",
              "    </tr>\n",
              "    </thead>\n",
              "    <tbody>\n",
              "    \n",
              "        <tr style=\"background-color: hsl(0, 100.00%, 100.00%); border: none;\">\n",
              "            <td style=\"padding: 0 1em 0 0.5em; text-align: right; border: none;\">\n",
              "                0\n",
              "                \n",
              "                    &plusmn; 0.0000\n",
              "                \n",
              "            </td>\n",
              "            <td style=\"padding: 0 0.5em 0 0.5em; text-align: left; border: none;\">\n",
              "                income_earned\n",
              "            </td>\n",
              "        </tr>\n",
              "    \n",
              "        <tr style=\"background-color: hsl(0, 100.00%, 100.00%); border: none;\">\n",
              "            <td style=\"padding: 0 1em 0 0.5em; text-align: right; border: none;\">\n",
              "                0\n",
              "                \n",
              "                    &plusmn; 0.0000\n",
              "                \n",
              "            </td>\n",
              "            <td style=\"padding: 0 0.5em 0 0.5em; text-align: left; border: none;\">\n",
              "                unearned_income\n",
              "            </td>\n",
              "        </tr>\n",
              "    \n",
              "        <tr style=\"background-color: hsl(0, 100.00%, 100.00%); border: none;\">\n",
              "            <td style=\"padding: 0 1em 0 0.5em; text-align: right; border: none;\">\n",
              "                0\n",
              "                \n",
              "                    &plusmn; 0.0000\n",
              "                \n",
              "            </td>\n",
              "            <td style=\"padding: 0 0.5em 0 0.5em; text-align: left; border: none;\">\n",
              "                asset\n",
              "            </td>\n",
              "        </tr>\n",
              "    \n",
              "        <tr style=\"background-color: hsl(0, 100.00%, 100.00%); border: none;\">\n",
              "            <td style=\"padding: 0 1em 0 0.5em; text-align: right; border: none;\">\n",
              "                0\n",
              "                \n",
              "                    &plusmn; 0.0000\n",
              "                \n",
              "            </td>\n",
              "            <td style=\"padding: 0 0.5em 0 0.5em; text-align: left; border: none;\">\n",
              "                liability\n",
              "            </td>\n",
              "        </tr>\n",
              "    \n",
              "        <tr style=\"background-color: hsl(0, 100.00%, 100.00%); border: none;\">\n",
              "            <td style=\"padding: 0 1em 0 0.5em; text-align: right; border: none;\">\n",
              "                0\n",
              "                \n",
              "                    &plusmn; 0.0000\n",
              "                \n",
              "            </td>\n",
              "            <td style=\"padding: 0 0.5em 0 0.5em; text-align: left; border: none;\">\n",
              "                income\n",
              "            </td>\n",
              "        </tr>\n",
              "    \n",
              "        <tr style=\"background-color: hsl(0, 100.00%, 100.00%); border: none;\">\n",
              "            <td style=\"padding: 0 1em 0 0.5em; text-align: right; border: none;\">\n",
              "                0\n",
              "                \n",
              "                    &plusmn; 0.0000\n",
              "                \n",
              "            </td>\n",
              "            <td style=\"padding: 0 0.5em 0 0.5em; text-align: left; border: none;\">\n",
              "                wealth\n",
              "            </td>\n",
              "        </tr>\n",
              "    \n",
              "        <tr style=\"background-color: hsl(0, 100.00%, 80.00%); border: none;\">\n",
              "            <td style=\"padding: 0 1em 0 0.5em; text-align: right; border: none;\">\n",
              "                -0.0051\n",
              "                \n",
              "                    &plusmn; 0.0308\n",
              "                \n",
              "            </td>\n",
              "            <td style=\"padding: 0 0.5em 0 0.5em; text-align: left; border: none;\">\n",
              "                total_ninety\n",
              "            </td>\n",
              "        </tr>\n",
              "    \n",
              "    \n",
              "    </tbody>\n",
              "</table>\n",
              "    \n",
              "\n",
              "    \n",
              "\n",
              "\n",
              "    \n",
              "\n",
              "    \n",
              "\n",
              "    \n",
              "\n",
              "    \n",
              "\n",
              "    \n",
              "\n",
              "    \n",
              "\n",
              "\n",
              "\n"
            ],
            "text/plain": [
              "<IPython.core.display.HTML object>"
            ]
          },
          "metadata": {
            "tags": []
          },
          "execution_count": 107
        }
      ]
    },
    {
      "cell_type": "markdown",
      "metadata": {
        "id": "zjgrtZ6BuhLL"
      },
      "source": [
        ""
      ]
    }
  ]
}